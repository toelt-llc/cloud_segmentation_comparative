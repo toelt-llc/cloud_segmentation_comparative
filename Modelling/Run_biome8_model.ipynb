{
 "cells": [
  {
   "cell_type": "markdown",
   "metadata": {},
   "source": [
    "# Imports"
   ]
  },
  {
   "cell_type": "code",
   "execution_count": 18,
   "metadata": {
    "tags": []
   },
   "outputs": [],
   "source": [
    "%%capture\n",
    "!chmod -R 777 ../"
   ]
  },
  {
   "cell_type": "code",
   "execution_count": 19,
   "metadata": {
    "tags": []
   },
   "outputs": [],
   "source": [
    "# System and path operations\n",
    "import sys\n",
    "import os\n",
    "import datetime\n",
    "from pathlib import Path\n",
    "from glob import glob\n",
    "sys.path.insert(0, '../') \n",
    "\n",
    "# Imported local modules\n",
    "from src.config import *\n",
    "from src.utils import *\n",
    "from src.models_arch import *\n",
    "from src.models_utils import *\n",
    "\n",
    "# Basic python data handling and visualization libraries\n",
    "import random\n",
    "import math\n",
    "import pandas as pd\n",
    "import numpy as np\n",
    "import matplotlib\n",
    "import matplotlib.pyplot as plt\n",
    "import seaborn as sns\n",
    "import json\n",
    "import time\n",
    "\n",
    "# Libraries for image processing\n",
    "from PIL import Image\n",
    "import skimage\n",
    "from skimage.io import imread, imsave\n",
    "import tifffile as tiff\n",
    "\n",
    "# Libraries for model evaluation and validation\n",
    "from sklearn.model_selection import train_test_split\n",
    "from sklearn.metrics import accuracy_score, roc_auc_score, confusion_matrix, f1_score, jaccard_score, roc_curve, auc\n",
    "\n",
    "# TensorFlow and Keras libraries for deep learning\n",
    "import tensorflow as tf\n",
    "from tensorflow.keras.callbacks import Callback\n",
    "import keras\n",
    "from keras import backend as K\n",
    "from keras.callbacks import (ModelCheckpoint, TensorBoard, ReduceLROnPlateau, \n",
    "                             CSVLogger, EarlyStopping)\n",
    "from keras.utils import Sequence\n",
    "\n",
    "# Setting seed for reproducibility\n",
    "seed_value = 42\n",
    "random.seed(seed_value)\n",
    "np.random.seed(seed_value)\n",
    "tf.random.set_seed(seed_value)"
   ]
  },
  {
   "cell_type": "code",
   "execution_count": 20,
   "metadata": {
    "tags": []
   },
   "outputs": [
    {
     "data": {
      "text/plain": [
       "[PhysicalDevice(name='/physical_device:GPU:0', device_type='GPU'),\n",
       " PhysicalDevice(name='/physical_device:GPU:1', device_type='GPU'),\n",
       " PhysicalDevice(name='/physical_device:GPU:2', device_type='GPU'),\n",
       " PhysicalDevice(name='/physical_device:GPU:3', device_type='GPU')]"
      ]
     },
     "execution_count": 20,
     "metadata": {},
     "output_type": "execute_result"
    }
   ],
   "source": [
    "# Setting GPU's number\n",
    "physical_devices=tf.config.experimental.list_physical_devices('GPU')\n",
    "physical_devices"
   ]
  },
  {
   "cell_type": "code",
   "execution_count": 21,
   "metadata": {
    "tags": []
   },
   "outputs": [],
   "source": [
    "# tf.config.set_visible_devices(physical_devices[:],'GPU')\n",
    "tf.config.set_visible_devices(physical_devices[3],'GPU')"
   ]
  },
  {
   "cell_type": "code",
   "execution_count": 5,
   "metadata": {
    "tags": []
   },
   "outputs": [],
   "source": [
    "# Load the TensorBoard notebook extension\n",
    "# %load_ext tensorboard\n",
    "# %tensorboard --logdir logs/fit "
   ]
  },
  {
   "cell_type": "code",
   "execution_count": 6,
   "metadata": {
    "tags": []
   },
   "outputs": [],
   "source": [
    "# Clear any logs from previous runs\n",
    "# !rm -rf ../logs/\n",
    "# !rm -rf ../models/"
   ]
  },
  {
   "cell_type": "markdown",
   "metadata": {},
   "source": [
    "---\n",
    "\n",
    "# Hyperparameter Selection and Model Configuration\n",
    "\n",
    "In the following code snippet, we focus on the essential aspects of configuring a deep learning model for a specific task. The primary objective is to select appropriate hyperparameters and set up the model for training.\n",
    "\n",
    "### Model Selection\n",
    "\n",
    "The code allows for the selection of various deep learning models, including 'UNet', 'RSNet', 'UNetPlusPlus', 'CloudNet', 'CloudXNet', 'RSNet', and 'DLV3'. These models are tailored for different computer vision tasks, and here we prepare to use one of them as the foundation for our task.\n",
    "\n",
    "Available models:\n",
    "- 'unet'\n",
    "- 'unet_plus_plus'\n",
    "- 'rs_net'\n",
    "- 'deep_lab_v3_plus'\n",
    "- 'CXNet'\n",
    "- 'cloud_net'\n",
    "\n",
    "### Batch Size and Data Configuration\n",
    "\n",
    "The batch size, a crucial hyperparameter that affects training efficiency and memory consumption, is set to 16. Additionally, there's an option to specify whether the training data includes RGB channels or both RGB and NIR channels, denoted as 'RGB' or 'RGBNIR', respectively.\n",
    "\n",
    "### Learning Rate and Optimization\n",
    "\n",
    "The learning rate, an essential hyperparameter for controlling the step size during optimization, is set to 1e-4. Different optimizers such as Adam, Nadam, SGD, and RMSprop are available for selection, each with its impact on training dynamics.\n",
    "\n",
    "### Loss and Metrics\n",
    "\n",
    "The code provides flexibility in choosing the loss function and evaluation metrics. Options include 'binary_crossentropy', 'BinaryFocalCrossentropy', custom loss functions like 'bce_dice_loss' and 'jacc_coef', as well as metrics such as 'AUC'.\n",
    "\n",
    "### Model Initialization\n",
    "\n",
    "The selected model is initialized using the chosen hyperparameters and configurations, setting the stage for further model training and evaluation.\n",
    "\n",
    "---\n",
    "Notes:\n",
    "- DeepLabV3+, CXNen need resizing since a fixed image size is required for internal operations\n",
    "- DeepLabV3+ and CXNet can only be trained with 3 channel images(RGB in our case) due to internal operations"
   ]
  },
  {
   "cell_type": "code",
   "execution_count": 22,
   "metadata": {
    "tags": []
   },
   "outputs": [],
   "source": [
    "# model_name = 'RSNet'\n",
    "model_name = 'UNetPlusPlus'\n",
    "# model_name = 'CloudNet'\n",
    "# model_name = 'CloudXNet'\n",
    "# model_name = 'RSNet'\n",
    "# model_name = 'DLV3'\n",
    "# model_name = 'UNet'\n",
    "\n",
    "# Define batch size\n",
    "batch_size = 16\n",
    "\n",
    "# Define if training with RGB or RGBNIR images\n",
    "train_with_RGB = True\n",
    "\n",
    "# learning rate\n",
    "LR = 1e-4\n",
    "\n",
    "\n",
    "# Define number of epochs\n",
    "NUM_EPOCHS=100"
   ]
  },
  {
   "cell_type": "code",
   "execution_count": 23,
   "metadata": {
    "tags": []
   },
   "outputs": [
    {
     "data": {
      "text/plain": [
       "'UNetPlusPlus_biome8_epochs100_batch16_RGB'"
      ]
     },
     "execution_count": 23,
     "metadata": {},
     "output_type": "execute_result"
    }
   ],
   "source": [
    "s = 'RGB' if train_with_RGB else 'RGBNIR'\n",
    "\n",
    "model_name = f'{model_name}_biome8_epochs{NUM_EPOCHS}_batch{batch_size}_{s}'\n",
    "\n",
    "model_name"
   ]
  },
  {
   "cell_type": "code",
   "execution_count": 24,
   "metadata": {
    "tags": []
   },
   "outputs": [],
   "source": [
    "# Set the model optimizer and loss function\n",
    "optimizer = tf.keras.optimizers.Adam(learning_rate=LR)\n",
    "# optimizer = tf.keras.optimizers.Nadam(learning_rate=LR)\n",
    "# optimizer = tf.keras.optimizers.SGD(learning_rate=LR)\n",
    "# optimizer = tf.keras.optimizers.RMSprop(learning_rate=LR)\n",
    "\n",
    "metrics = ['binary_crossentropy', tf.keras.losses.BinaryFocalCrossentropy(), bce_dice_loss, jacc_coef, tf.keras.metrics.AUC()]\n",
    "# metrics = [jacc_coef, tf.keras.metrics.AUC()]\n",
    "\n",
    "\n",
    "# loss = 'binary_crossentropy'\n",
    "# loss = jacc_coef\n",
    "# loss = tf.keras.losses.BinaryFocalCrossentropy()\n",
    "loss = bce_dice_loss\n",
    "\n",
    "# model = create_model(model_name='CXNet', IMG_HEIGHT=256 , IMG_WIDTH=256, IMG_CHANNELS=3)\n",
    "# model = create_model(model_name='deep_lab_v3_plus', IMG_HEIGHT=256 , IMG_WIDTH=256, IMG_CHANNELS=3)\n",
    "# model = create_model(model_name='unet_plus_plus')\n",
    "# model = create_model(model_name='unet')\n",
    "model = create_model(model_name='unet_plus_plus', IMG_CHANNELS=3)"
   ]
  },
  {
   "cell_type": "markdown",
   "metadata": {},
   "source": [
    "# Data loading"
   ]
  },
  {
   "cell_type": "code",
   "execution_count": 25,
   "metadata": {
    "tags": []
   },
   "outputs": [
    {
     "data": {
      "text/plain": [
       "(1087, 121)"
      ]
     },
     "execution_count": 25,
     "metadata": {},
     "output_type": "execute_result"
    }
   ],
   "source": [
    "train_image_names = sorted(os.listdir(Path(biome_train_dir, \"images_p/\")))\n",
    "valid_image_names = sorted(os.listdir(Path(biome_valid_dir, \"images_p/\")))\n",
    "\n",
    "# steps_per_epoch = len(train_image_names) // batch_size\n",
    "# validation_steps = len(valid_image_names) // batch_size\n",
    "\n",
    "steps_per_epoch = math.ceil(len(train_image_names) / batch_size)\n",
    "validation_steps = math.ceil(len(valid_image_names) / batch_size)\n",
    "\n",
    "steps_per_epoch, validation_steps"
   ]
  },
  {
   "cell_type": "code",
   "execution_count": 26,
   "metadata": {
    "tags": []
   },
   "outputs": [],
   "source": [
    "test_image_names = sorted(os.listdir(Path(biome_test_dir, \"images_p/\")))\n",
    "total_test_samples = math.ceil(len(test_image_names) / batch_size)"
   ]
  },
  {
   "cell_type": "code",
   "execution_count": 27,
   "metadata": {
    "tags": []
   },
   "outputs": [],
   "source": [
    "train = get_biome8_generator('train', batch_size=batch_size, shuffle=True, only_rgb=train_with_RGB)\n",
    "valid = get_biome8_generator('valid', batch_size=batch_size, only_rgb=train_with_RGB)\n",
    "# valid = get_SPARCS_generator('train', batch_size=batch_size, only_rgb=train_with_RGB)\n",
    "test = get_biome8_generator('test', batch_size=batch_size, only_rgb=train_with_RGB)"
   ]
  },
  {
   "cell_type": "code",
   "execution_count": 28,
   "metadata": {
    "tags": []
   },
   "outputs": [
    {
     "name": "stderr",
     "output_type": "stream",
     "text": [
      "Loading data: 100%|██████████| 3714/3714 [00:09<00:00, 401.24it/s]\n"
     ]
    }
   ],
   "source": [
    "X_test, y_test = get_biome8('test', only_rgb=train_with_RGB)"
   ]
  },
  {
   "cell_type": "markdown",
   "metadata": {},
   "source": [
    "# Training"
   ]
  },
  {
   "cell_type": "markdown",
   "metadata": {},
   "source": [
    "---\n",
    "\n",
    "## Checkpoint and Callback Configuration\n",
    "\n",
    "In this code segment, we configure essential aspects related to saving checkpoints and defining callbacks during the training of a deep learning model. These components are crucial for monitoring and optimizing the training process.\n",
    "\n",
    "### Checkpoint Configuration\n",
    "\n",
    "Checkpointing is essential to save the model's progress during training. This code defines checkpoint paths using `ckpt_path` and sets up the directory for saving checkpoints. A common practice is to save the best model based on validation loss. Thus, a ModelCheckpoint callback (`cp_callback`) is established to monitor the validation loss and save only the best-performing model weights.\n",
    "\n",
    "### Logging and TensorBoard\n",
    "\n",
    "The code also establishes a directory for logging training information using TensorBoard. This log directory, `log_dir`, includes details about model performance during training, such as loss curves and metrics over epochs. A TensorBoard callback (`tensorboard_callback`) is created to facilitate this logging.\n",
    "\n",
    "### Time Tracking Callback\n",
    "\n",
    "To keep track of the time taken for each training epoch, a custom callback named `TimeHistory` is defined. This callback records the time spent on each epoch, providing insights into the training duration.\n",
    "\n",
    "### Early Stopping\n",
    "\n",
    "Early stopping is a useful technique to prevent overfitting. An EarlyStopping callback (`early_stopping`) is set up to monitor the validation loss and halt training if it does not improve for a specified number of epochs (patience).\n",
    "\n",
    "### Learning Rate Scheduling\n",
    "\n",
    "Learning rate scheduling is incorporated via a ReduceLROnPlateau callback (`reduce_lr`). This callback monitors the validation loss and adjusts the learning rate during training to help converge to a better solution.\n",
    "\n",
    "### Callbacks List\n",
    "\n",
    "Finally, all defined callbacks (`cp_callback`, `time_callback`, `tensorboard_callback`, `reduce_lr`) are assembled into a list called `callbacks_list`. This list is then used during model training to execute the specified actions at different training stages.\n",
    "\n",
    "---\n",
    "\n",
    "These checkpointing and callback configurations are essential for effectively monitoring and managing the training process of deep learning models, ensuring that the best model is saved and providing valuable insights into training dynamics and performance."
   ]
  },
  {
   "cell_type": "code",
   "execution_count": 29,
   "metadata": {
    "tags": []
   },
   "outputs": [],
   "source": [
    "# Include the epoch in the file name (uses `str.format`)\n",
    "# ckpt_path = str(checkpoint_path / f\"{model_name}/\" / \"cp-{epoch:04d}.ckpt\")\n",
    "ckpt_path = str(checkpoint_path / f\"{model_name}/\" / \"best_model.ckpt\")\n",
    "\n",
    "ckpt_dir = os.path.dirname(ckpt_path)\n",
    "\n",
    "log_dir = project_root_path / \"logs/fit/\" / model_name / datetime.datetime.now().strftime(\"%Y%m%d-%H%M%S\")\n",
    "\n",
    "# Checkpoint callbacks definition\n",
    "# Save the checkpoint only if the validation loss is minimum\n",
    "cp_callback = tf.keras.callbacks.ModelCheckpoint(\n",
    "    filepath=ckpt_path, \n",
    "    verbose=1, \n",
    "    save_best_only=True,\n",
    "    monitor='val_loss',\n",
    "    mode='min',\n",
    "    save_weights_only=True,\n",
    "    save_freq='epoch')\n",
    "\n",
    "# Time callback definition\n",
    "class TimeHistory(Callback):\n",
    "    def on_train_begin(self, logs={}):\n",
    "        self.times = []\n",
    "\n",
    "    def on_epoch_begin(self, batch, logs={}):\n",
    "        self.epoch_time_start = time.time()\n",
    "\n",
    "    def on_epoch_end(self, batch, logs={}):\n",
    "        self.times.append(time.time() - self.epoch_time_start)\n",
    "        \n",
    "time_callback = TimeHistory()\n",
    "\n",
    "tensorboard_callback = tf.keras.callbacks.TensorBoard(log_dir=log_dir, histogram_freq=1)\n",
    "\n",
    "# Define the early stopping callback\n",
    "early_stopping = tf.keras.callbacks.EarlyStopping(monitor='val_loss', patience=25)\n",
    "\n",
    "reduce_lr = tf.keras.callbacks.ReduceLROnPlateau(monitor='val_loss', factor=0.7, cooldown=0, patience=15, min_lr=1e-8, verbose=1)"
   ]
  },
  {
   "cell_type": "code",
   "execution_count": 30,
   "metadata": {
    "tags": []
   },
   "outputs": [],
   "source": [
    "# callbacks_list = [cp_callback, time_callback, tensorboard_callback, early_stopping, reduce_lr]\n",
    "callbacks_list = [cp_callback, time_callback, tensorboard_callback, reduce_lr]\n",
    "callbacks_list = [cp_callback, time_callback, tensorboard_callback]"
   ]
  },
  {
   "cell_type": "code",
   "execution_count": 31,
   "metadata": {
    "tags": []
   },
   "outputs": [],
   "source": [
    "# Save the weights using the `checkpoint_path` format\n",
    "model.save_weights(ckpt_path.format(epoch=0))"
   ]
  },
  {
   "cell_type": "code",
   "execution_count": 32,
   "metadata": {
    "tags": []
   },
   "outputs": [],
   "source": [
    "# Resume from checkpoint\n",
    "\n",
    "# # Create a new model instance\n",
    "# model = create_model(model_name='unet_plus_plus')\n",
    "\n",
    "# # Try to load the latest checkpoint\n",
    "# try:\n",
    "#     latest = tf.train.latest_checkpoint(ckpt_dir)\n",
    "#     latest_epoch = int(latest.split(\"-\")[-1].split(\".\")[0])  # extract epoch number from the filename\n",
    "#     model.load_weights(latest)\n",
    "#     print(f\"Loaded weights from {latest}\")\n",
    "# except Exception as e:\n",
    "#     print(\"No checkpoint was found, starting training from scratch.\")\n",
    "#     latest_epoch = 0  # if no checkpoint was found, start from epoch 0\n",
    "\n",
    "# # Now compile your model with optimizer and loss\n",
    "# model.compile(optimizer='adam', loss='sparse_categorical_crossentropy')  \n",
    "\n",
    "# # Continue training the model\n",
    "# # Here, epochs should be the final epoch number you want to reach and initial_epoch should be set to the epoch number where training last left off\n",
    "# model.fit(train_dataset, epochs=total_epochs, initial_epoch=latest_epoch, callbacks=callbacks_list, validation_data=val_dataset)"
   ]
  },
  {
   "cell_type": "markdown",
   "metadata": {
    "jp-MarkdownHeadingCollapsed": true,
    "tags": []
   },
   "source": [
    "## Tuner\n",
    "Section used for the hyperparameter optimization of the model, it implements a simple grid search that tries a series of combinations and compute a score on the test set. The parameters of the model with the best score is printed.\n",
    "\n",
    "Note: this section of code can be skipped if we alredy know the parameter of the model, otherwise you can easly setup the below parameters and perform the search.  "
   ]
  },
  {
   "cell_type": "code",
   "execution_count": 19,
   "metadata": {
    "tags": []
   },
   "outputs": [],
   "source": [
    "callbacks_list = [reduce_lr, early_stopping]"
   ]
  },
  {
   "cell_type": "code",
   "execution_count": 21,
   "metadata": {
    "tags": []
   },
   "outputs": [],
   "source": [
    "train_with_RGB = True"
   ]
  },
  {
   "cell_type": "code",
   "execution_count": 22,
   "metadata": {
    "tags": []
   },
   "outputs": [
    {
     "data": {
      "text/plain": [
       "(1087, 121)"
      ]
     },
     "execution_count": 22,
     "metadata": {},
     "output_type": "execute_result"
    }
   ],
   "source": [
    "train_image_names = sorted(os.listdir(Path(biome_train_dir, \"images_p/\")))\n",
    "valid_image_names = sorted(os.listdir(Path(biome_valid_dir, \"images_p/\")))\n",
    "\n",
    "# steps_per_epoch = len(train_image_names) // batch_size\n",
    "# validation_steps = len(valid_image_names) // batch_size\n",
    "\n",
    "steps_per_epoch = math.ceil(len(train_image_names) / batch_size)\n",
    "validation_steps = math.ceil(len(valid_image_names) / batch_size)\n",
    "\n",
    "steps_per_epoch, validation_steps"
   ]
  },
  {
   "cell_type": "code",
   "execution_count": 23,
   "metadata": {
    "tags": []
   },
   "outputs": [],
   "source": [
    "def load(batch_size):\n",
    "    train = get_biome8_generator('train', batch_size=batch_size, shuffle=True, only_rgb=train_with_RGB)\n",
    "    valid = get_biome8_generator('valid', batch_size=batch_size, only_rgb=train_with_RGB)\n",
    "    # valid = get_SPARCS_generator('train', batch_size=batch_size, only_rgb=train_with_RGB)\n",
    "    test = get_biome8_generator('test', batch_size=batch_size, only_rgb=train_with_RGB)\n",
    "    return train, valid, test"
   ]
  },
  {
   "cell_type": "code",
   "execution_count": null,
   "metadata": {
    "collapsed": true,
    "jupyter": {
     "outputs_hidden": true
    },
    "tags": []
   },
   "outputs": [
    {
     "name": "stderr",
     "output_type": "stream",
     "text": [
      "Loading data: 100%|██████████| 3714/3714 [00:40<00:00, 91.85it/s] \n"
     ]
    },
    {
     "name": "stdout",
     "output_type": "stream",
     "text": [
      "Started training model:  CustomModel_optimizer_Nadam_loss_binary_crossentropy_lr_0.001_batch_8_epochs_20\n",
      "Epoch 1/20\n",
      "1087/1087 [==============================] - 348s 308ms/step - loss: 0.4551 - auc_9: 0.8662 - val_loss: 0.6397 - val_auc_9: 0.8431 - lr: 0.0010\n",
      "Epoch 2/20\n",
      "1087/1087 [==============================] - 455s 418ms/step - loss: 0.3592 - auc_9: 0.9201 - val_loss: 0.1869 - val_auc_9: 0.9915 - lr: 0.0010\n",
      "Epoch 3/20\n",
      "1087/1087 [==============================] - 303s 279ms/step - loss: 0.2902 - auc_9: 0.9481 - val_loss: 0.3455 - val_auc_9: 0.9834 - lr: 0.0010\n",
      "Epoch 4/20\n",
      "1087/1087 [==============================] - 304s 280ms/step - loss: 0.2406 - auc_9: 0.9636 - val_loss: 0.2312 - val_auc_9: 0.9681 - lr: 0.0010\n",
      "Epoch 5/20\n",
      "1087/1087 [==============================] - 305s 281ms/step - loss: 0.2169 - auc_9: 0.9707 - val_loss: 0.1067 - val_auc_9: 0.9877 - lr: 0.0010\n",
      "Epoch 6/20\n",
      "1087/1087 [==============================] - 304s 280ms/step - loss: 0.1910 - auc_9: 0.9766 - val_loss: 0.2245 - val_auc_9: 0.9856 - lr: 0.0010\n",
      "Epoch 7/20\n",
      "1087/1087 [==============================] - 304s 280ms/step - loss: 0.1870 - auc_9: 0.9779 - val_loss: 0.1750 - val_auc_9: 0.9734 - lr: 0.0010\n",
      "Epoch 8/20\n",
      "1087/1087 [==============================] - 304s 279ms/step - loss: 0.1759 - auc_9: 0.9803 - val_loss: 0.0959 - val_auc_9: 0.9962 - lr: 0.0010\n",
      "Epoch 9/20\n",
      "1087/1087 [==============================] - 305s 280ms/step - loss: 0.1696 - auc_9: 0.9818 - val_loss: 0.0559 - val_auc_9: 0.9947 - lr: 0.0010\n",
      "Epoch 10/20\n",
      "1087/1087 [==============================] - 304s 280ms/step - loss: 0.1698 - auc_9: 0.9818 - val_loss: 0.1033 - val_auc_9: 0.9960 - lr: 0.0010\n",
      "Epoch 11/20\n",
      "1087/1087 [==============================] - 304s 280ms/step - loss: 0.1655 - auc_9: 0.9826 - val_loss: 0.0994 - val_auc_9: 0.9897 - lr: 0.0010\n",
      "Epoch 12/20\n",
      "1087/1087 [==============================] - 304s 280ms/step - loss: 0.1559 - auc_9: 0.9849 - val_loss: 0.1354 - val_auc_9: 0.9948 - lr: 0.0010\n",
      "Epoch 13/20\n",
      "1087/1087 [==============================] - 304s 280ms/step - loss: 0.1534 - auc_9: 0.9852 - val_loss: 0.2551 - val_auc_9: 0.9593 - lr: 0.0010\n",
      "Epoch 14/20\n",
      "1087/1087 [==============================] - 306s 281ms/step - loss: 0.1500 - auc_9: 0.9859 - val_loss: 0.1058 - val_auc_9: 0.9980 - lr: 0.0010\n",
      "Epoch 15/20\n",
      "1087/1087 [==============================] - 304s 280ms/step - loss: 0.1285 - auc_9: 0.9897 - val_loss: 0.0677 - val_auc_9: 0.9977 - lr: 3.0000e-04\n",
      "Epoch 16/20\n",
      "1087/1087 [==============================] - 303s 279ms/step - loss: 0.1203 - auc_9: 0.9909 - val_loss: 0.0610 - val_auc_9: 0.9981 - lr: 3.0000e-04\n",
      "Epoch 17/20\n",
      "1087/1087 [==============================] - 304s 280ms/step - loss: 0.1157 - auc_9: 0.9915 - val_loss: 0.0544 - val_auc_9: 0.9982 - lr: 3.0000e-04\n",
      "Epoch 18/20\n",
      "1087/1087 [==============================] - 304s 280ms/step - loss: 0.1201 - auc_9: 0.9910 - val_loss: 0.0719 - val_auc_9: 0.9980 - lr: 3.0000e-04\n",
      "Epoch 19/20\n",
      "1087/1087 [==============================] - 304s 280ms/step - loss: 0.1180 - auc_9: 0.9912 - val_loss: 0.0588 - val_auc_9: 0.9976 - lr: 3.0000e-04\n",
      "Epoch 20/20\n",
      "1087/1087 [==============================] - 304s 280ms/step - loss: 0.1137 - auc_9: 0.9918 - val_loss: 0.0664 - val_auc_9: 0.9980 - lr: 3.0000e-04\n",
      "117/117 [==============================] - 15s 117ms/step\n",
      "Finished training model: CustomModel_optimizer_Nadam_loss_binary_crossentropy_lr_0.001_batch_8_epochs_20 with score: 0.867450219718665. Best score:0.867450219718665\n"
     ]
    },
    {
     "name": "stderr",
     "output_type": "stream",
     "text": [
      "Loading data: 100%|██████████| 3714/3714 [01:36<00:00, 38.31it/s] \n"
     ]
    },
    {
     "name": "stdout",
     "output_type": "stream",
     "text": [
      "Started training model:  CustomModel_optimizer_Nadam_loss_binary_crossentropy_lr_0.001_batch_16_epochs_20\n",
      "Epoch 1/20\n",
      "1087/1087 [==============================] - 581s 523ms/step - loss: 0.3561 - auc_10: 0.9212 - val_loss: 0.2716 - val_auc_10: 0.9647 - lr: 0.0010\n",
      "Epoch 2/20\n",
      "1087/1087 [==============================] - 568s 522ms/step - loss: 0.2508 - auc_10: 0.9614 - val_loss: 0.1593 - val_auc_10: 0.9913 - lr: 0.0010\n",
      "Epoch 3/20\n",
      "1087/1087 [==============================] - 568s 523ms/step - loss: 0.1957 - auc_10: 0.9764 - val_loss: 0.2183 - val_auc_10: 0.9850 - lr: 0.0010\n",
      "Epoch 4/20\n",
      "1087/1087 [==============================] - 568s 523ms/step - loss: 0.1792 - auc_10: 0.9800 - val_loss: 0.7158 - val_auc_10: 0.9144 - lr: 0.0010\n",
      "Epoch 5/20\n",
      "1087/1087 [==============================] - 568s 522ms/step - loss: 0.1603 - auc_10: 0.9840 - val_loss: 0.6213 - val_auc_10: 0.9249 - lr: 0.0010\n",
      "Epoch 6/20\n",
      "1087/1087 [==============================] - 567s 521ms/step - loss: 0.1474 - auc_10: 0.9864 - val_loss: 0.7224 - val_auc_10: 0.9401 - lr: 0.0010\n",
      "Epoch 7/20\n",
      "1087/1087 [==============================] - 568s 523ms/step - loss: 0.1429 - auc_10: 0.9873 - val_loss: 0.1306 - val_auc_10: 0.9935 - lr: 0.0010\n",
      "Epoch 8/20\n",
      "1087/1087 [==============================] - 568s 523ms/step - loss: 0.1292 - auc_10: 0.9895 - val_loss: 1.0263 - val_auc_10: 0.6446 - lr: 0.0010\n",
      "Epoch 9/20\n",
      "1087/1087 [==============================] - 568s 523ms/step - loss: 0.1276 - auc_10: 0.9898 - val_loss: 0.0744 - val_auc_10: 0.9959 - lr: 0.0010\n",
      "Epoch 10/20\n",
      "1087/1087 [==============================] - 568s 523ms/step - loss: 0.1266 - auc_10: 0.9898 - val_loss: 0.0878 - val_auc_10: 0.9956 - lr: 0.0010\n",
      "Epoch 11/20\n",
      "1087/1087 [==============================] - 569s 523ms/step - loss: 0.1194 - auc_10: 0.9910 - val_loss: 0.6220 - val_auc_10: 0.9403 - lr: 0.0010\n",
      "Epoch 12/20\n",
      "1087/1087 [==============================] - 569s 523ms/step - loss: 0.1103 - auc_10: 0.9923 - val_loss: 0.0877 - val_auc_10: 0.9960 - lr: 0.0010\n",
      "Epoch 13/20\n",
      "1087/1087 [==============================] - 569s 523ms/step - loss: 0.1125 - auc_10: 0.9918 - val_loss: 1.6765 - val_auc_10: 0.8812 - lr: 0.0010\n",
      "Epoch 14/20\n",
      "1087/1087 [==============================] - 568s 523ms/step - loss: 0.1094 - auc_10: 0.9924 - val_loss: 0.1248 - val_auc_10: 0.9960 - lr: 0.0010\n",
      "Epoch 15/20\n",
      "1087/1087 [==============================] - 568s 523ms/step - loss: 0.0908 - auc_10: 0.9947 - val_loss: 0.2797 - val_auc_10: 0.9667 - lr: 3.0000e-04\n",
      "Epoch 16/20\n",
      "1087/1087 [==============================] - 569s 524ms/step - loss: 0.0859 - auc_10: 0.9951 - val_loss: 0.2448 - val_auc_10: 0.9756 - lr: 3.0000e-04\n",
      "Epoch 17/20\n",
      "1087/1087 [==============================] - 571s 525ms/step - loss: 0.0826 - auc_10: 0.9955 - val_loss: 0.0896 - val_auc_10: 0.9958 - lr: 3.0000e-04\n",
      "Epoch 18/20\n",
      "1087/1087 [==============================] - 570s 524ms/step - loss: 0.0809 - auc_10: 0.9956 - val_loss: 0.0786 - val_auc_10: 0.9967 - lr: 3.0000e-04\n",
      "Epoch 19/20\n",
      "1087/1087 [==============================] - 570s 524ms/step - loss: 0.0764 - auc_10: 0.9961 - val_loss: 0.1289 - val_auc_10: 0.9929 - lr: 3.0000e-04\n",
      "117/117 [==============================] - 14s 114ms/step\n",
      "Finished training model: CustomModel_optimizer_Nadam_loss_binary_crossentropy_lr_0.001_batch_16_epochs_20 with score: 0.828268227408121. Best score:0.867450219718665\n"
     ]
    },
    {
     "name": "stderr",
     "output_type": "stream",
     "text": [
      "Loading data: 100%|██████████| 3714/3714 [00:08<00:00, 440.46it/s]\n"
     ]
    },
    {
     "name": "stdout",
     "output_type": "stream",
     "text": [
      "Started training model:  CustomModel_optimizer_Nadam_loss_binary_focal_crossentropy_lr_0.001_batch_8_epochs_20\n",
      "Epoch 1/20\n",
      "1087/1087 [==============================] - 320s 282ms/step - loss: 0.1165 - auc_11: 0.8773 - val_loss: 0.1496 - val_auc_11: 0.9643 - lr: 0.0010\n",
      "Epoch 2/20\n",
      "1087/1087 [==============================] - 304s 280ms/step - loss: 0.0841 - auc_11: 0.9372 - val_loss: 0.0838 - val_auc_11: 0.9616 - lr: 0.0010\n",
      "Epoch 3/20\n",
      "1087/1087 [==============================] - 305s 281ms/step - loss: 0.0705 - auc_11: 0.9566 - val_loss: 0.3281 - val_auc_11: 0.7595 - lr: 0.0010\n",
      "Epoch 4/20\n",
      "1087/1087 [==============================] - 305s 281ms/step - loss: 0.0617 - auc_11: 0.9667 - val_loss: 0.1621 - val_auc_11: 0.9818 - lr: 0.0010\n",
      "Epoch 5/20\n",
      "1087/1087 [==============================] - 306s 281ms/step - loss: 0.0577 - auc_11: 0.9706 - val_loss: 0.1533 - val_auc_11: 0.9860 - lr: 0.0010\n",
      "Epoch 6/20\n",
      "1087/1087 [==============================] - 305s 281ms/step - loss: 0.0535 - auc_11: 0.9748 - val_loss: 0.0276 - val_auc_11: 0.9941 - lr: 0.0010\n",
      "Epoch 7/20\n",
      "1087/1087 [==============================] - 306s 282ms/step - loss: 0.0516 - auc_11: 0.9766 - val_loss: 0.0779 - val_auc_11: 0.9834 - lr: 0.0010\n",
      "Epoch 8/20\n",
      "1087/1087 [==============================] - 307s 283ms/step - loss: 0.0497 - auc_11: 0.9784 - val_loss: 0.0508 - val_auc_11: 0.9873 - lr: 0.0010\n",
      "Epoch 9/20\n",
      "1087/1087 [==============================] - 307s 283ms/step - loss: 0.0493 - auc_11: 0.9787 - val_loss: 0.0204 - val_auc_11: 0.9976 - lr: 0.0010\n",
      "Epoch 10/20\n",
      "1087/1087 [==============================] - 307s 282ms/step - loss: 0.0477 - auc_11: 0.9801 - val_loss: 0.0263 - val_auc_11: 0.9949 - lr: 0.0010\n",
      "Epoch 11/20\n",
      "1087/1087 [==============================] - 306s 282ms/step - loss: 0.0455 - auc_11: 0.9820 - val_loss: 0.1099 - val_auc_11: 0.9878 - lr: 0.0010\n",
      "Epoch 12/20\n",
      " 939/1087 [========================>.....] - ETA: 41s - loss: 0.0437 - auc_11: 0.9832"
     ]
    }
   ],
   "source": [
    "from itertools import product\n",
    "import numpy as np\n",
    "from sklearn.metrics import jaccard_score\n",
    "\n",
    "def train_and_evaluate_model(model, train_data, valid_data, NUM_EPOCHS):\n",
    "    history = model.fit(train_data,\n",
    "                    validation_data=valid_data,\n",
    "                    steps_per_epoch=steps_per_epoch,\n",
    "                    validation_steps=validation_steps,\n",
    "                    callbacks=callbacks_list,\n",
    "                    epochs=NUM_EPOCHS, \n",
    "                    verbose=1,)\n",
    "    return history\n",
    "\n",
    "def evaluate_model(model, X_test, y_test):\n",
    "    y_pred = model.predict(X_test)\n",
    "    y_pred_thresholded = y_pred > 0.5\n",
    "\n",
    "    y_true_f = y_test.astype('float32')\n",
    "    y_pred_f = y_pred_thresholded.astype('float32')\n",
    "\n",
    "    y_true_flatten = y_true_f.reshape(-1)\n",
    "    y_pred_flatten = y_pred_f.reshape(-1)\n",
    "\n",
    "    jaccard = jaccard_score(y_true_flatten, y_pred_flatten)\n",
    "    return jaccard\n",
    "\n",
    "def hyperparameter_search():\n",
    "    # optimizer_options = [tf.keras.optimizers.Adam, tf.keras.optimizers.Nadam, tf.keras.optimizers.SGD, tf.keras.optimizers.RMSprop]\n",
    "    # loss_options = ['binary_crossentropy', 'binary_focal_crossentropy', bce_dice_loss, jacc_coef]\n",
    "    # learning_rates = [1e-4, 1e-3, 1e-2]\n",
    "    # batch_sizes = [8, 16, 32]\n",
    "    # num_epochs_list = [100, 200, 500]\n",
    "    optimizer_options = [tf.keras.optimizers.Nadam]\n",
    "    loss_options = ['binary_crossentropy', 'binary_focal_crossentropy', bce_dice_loss, jacc_coef]\n",
    "    learning_rates = [1e-3]\n",
    "    # batch_sizes = [8, 16, 32]\n",
    "    batch_sizes = [8, 16]\n",
    "    num_epochs_list = [20]\n",
    "\n",
    "    best_jaccard = 0.0\n",
    "    best_hyperparameters = {}\n",
    "\n",
    "    for optimizer_class, loss_option, lr, batch_size, num_epochs in product(optimizer_options, loss_options, learning_rates, batch_sizes, num_epochs_list):\n",
    "        optimizer = optimizer_class(learning_rate=lr)\n",
    "        loss = loss_option\n",
    "        \n",
    "        train_data, valid_data, _ = load(batch_size)\n",
    "        X_test, y_test = get_biome8('test', only_rgb=train_with_RGB)\n",
    "        # X_test, y_test = get_SPARCS('test', only_rgb=train_with_RGB)\n",
    "\n",
    "\n",
    "        model_name = f'CustomModel_optimizer_{optimizer_class.__name__}_loss_{loss}_lr_{lr}_batch_{batch_size}_epochs_{num_epochs}'\n",
    "        print(\"Started training model: \", model_name)\n",
    "        \n",
    "        model = create_model(model_name='CXNet', IMG_HEIGHT=256 , IMG_WIDTH=256, IMG_CHANNELS=3)\n",
    "        # model = create_model(model_name='deep_lab_v3_plus', IMG_HEIGHT=256 , IMG_WIDTH=256, IMG_CHANNELS=3)\n",
    "        # model = create_model(model_name='unet_plus_plus')\n",
    "        # model = create_model(model_name='rs_net')\n",
    "        # model = create_model(model_name='cloud_net')\n",
    "        model = compile_model(model, optimizer=optimizer, loss=loss)\n",
    "\n",
    "        history = train_and_evaluate_model(model, train_data, valid_data, num_epochs)\n",
    "\n",
    "        jaccard = evaluate_model(model, X_test, y_test)\n",
    "        if jaccard > best_jaccard:\n",
    "            best_jaccard = jaccard\n",
    "            best_hyperparameters = {\n",
    "                'name': model_name,\n",
    "                'optimizer': optimizer_class.__name__,\n",
    "                'loss': loss,\n",
    "                'learning_rate': lr,\n",
    "                'batch_size': batch_size,\n",
    "                'num_epochs': num_epochs\n",
    "            }\n",
    "            \n",
    "        print(f\"Finished training model: {model_name} with score: {jaccard}. Best score:{best_jaccard}\")\n",
    "\n",
    "    return best_hyperparameters, best_jaccard\n",
    "\n",
    "# Call the hyperparameter search function\n",
    "best_hyperparameters, best_jaccard = hyperparameter_search()"
   ]
  },
  {
   "cell_type": "code",
   "execution_count": null,
   "metadata": {
    "tags": []
   },
   "outputs": [],
   "source": [
    "print(\"Best Hyperparameters:\")\n",
    "print(best_hyperparameters)\n",
    "print(\"Best Jaccard Score:\", best_jaccard)\n",
    "\n",
    "# RS-net best:\n",
    "# Best Hyperparameters:\n",
    "# {'name': 'CustomModel_optimizer_Adam_loss_<function jacc_coef at 0x7f0c7bff3e50>_lr_0.001_batch_8_epochs_20', 'optimizer': 'Adam', 'loss': <function jacc_coef at 0x7f0c7bff3e50>, 'learning_rate': 0.001, 'batch_size': 8, 'num_epochs': 20}\n",
    "# Best Jaccard Score: 0.8735452629473787\n",
    "# Finished training model: CustomModel_optimizer_Adam_loss_<function bce_dice_loss at 0x7f0c7bff3b80>_lr_0.001_batch_16_epochs_20 with score: 0.8551185187375495. Best score:0.8558768982145087\n",
    "# Finished training model: CustomModel_optimizer_Adam_loss_binary_crossentropy_lr_0.001_batch_32_epochs_20 with score: 0.8558768982145087. Best score:0.8558768982145087\n",
    "\n",
    "# U-net++:\n",
    "# Best Hyperparameters:\n",
    "# {'name': 'CustomModel_optimizer_SGD_loss_binary_crossentropy_lr_0.001_batch_16_epochs_20', 'optimizer': 'SGD', 'loss': 'binary_crossentropy', 'learning_rate': 0.001, 'batch_size': 16, 'num_epochs': 20}\n",
    "# Best Jaccard Score: 0.8506563442242354\n",
    "# Finished training model: CustomModel_optimizer_Nadam_loss_binary_crossentropy_lr_0.001_batch_16_epochs_20 with score: 0.8221097807306096. Best score:0.8221097807306096\n",
    "\n",
    "# DLV3+:\n",
    "# Best Hyperparameters:\n",
    "# {'name': 'CustomModel_optimizer_Nadam_loss_binary_focal_crossentropy_lr_0.001_batch_8_epochs_20', 'optimizer': 'Nadam', 'loss': 'binary_focal_crossentropy', 'learning_rate': 0.001, 'batch_size': 8, 'num_epochs': 20}\n",
    "# Best Jaccard Score: 0.8420733385158327\n",
    "\n",
    "# cloud-net:\n",
    "# Best Hyperparameters:\n",
    "# {'name': 'CustomModel_optimizer_Nadam_loss_binary_crossentropy_lr_0.001_batch_16_epochs_20', 'optimizer': 'Nadam', 'loss': 'binary_crossentropy', 'learning_rate': 0.001, 'batch_size': 16, 'num_epochs': 20}\n",
    "# Best Jaccard Score: 0.8906706369653524\n",
    "# Finished training model: CustomModel_optimizer_Nadam_loss_<function jacc_coef at 0x7f44def8c8b0>_lr_0.001_batch_16_epochs_20 with score: 0.8649839533303364."
   ]
  },
  {
   "cell_type": "markdown",
   "metadata": {
    "tags": []
   },
   "source": [
    "## Compile"
   ]
  },
  {
   "cell_type": "code",
   "execution_count": 33,
   "metadata": {
    "tags": []
   },
   "outputs": [
    {
     "name": "stdout",
     "output_type": "stream",
     "text": [
      "Model: \"model_1\"\n",
      "__________________________________________________________________________________________________\n",
      " Layer (type)                   Output Shape         Param #     Connected to                     \n",
      "==================================================================================================\n",
      " input_2 (InputLayer)           [(None, None, None,  0           []                               \n",
      "                                 3)]                                                              \n",
      "                                                                                                  \n",
      " conv2d_30 (Conv2D)             (None, None, None,   896         ['input_2[0][0]']                \n",
      "                                32)                                                               \n",
      "                                                                                                  \n",
      " dropout_30 (Dropout)           (None, None, None,   0           ['conv2d_30[0][0]']              \n",
      "                                32)                                                               \n",
      "                                                                                                  \n",
      " conv2d_31 (Conv2D)             (None, None, None,   9248        ['dropout_30[0][0]']             \n",
      "                                32)                                                               \n",
      "                                                                                                  \n",
      " dropout_31 (Dropout)           (None, None, None,   0           ['conv2d_31[0][0]']              \n",
      "                                32)                                                               \n",
      "                                                                                                  \n",
      " max_pooling2d_2 (MaxPooling2D)  (None, None, None,   0          ['dropout_31[0][0]']             \n",
      "                                32)                                                               \n",
      "                                                                                                  \n",
      " conv2d_32 (Conv2D)             (None, None, None,   18496       ['max_pooling2d_2[0][0]']        \n",
      "                                64)                                                               \n",
      "                                                                                                  \n",
      " dropout_32 (Dropout)           (None, None, None,   0           ['conv2d_32[0][0]']              \n",
      "                                64)                                                               \n",
      "                                                                                                  \n",
      " conv2d_33 (Conv2D)             (None, None, None,   36928       ['dropout_32[0][0]']             \n",
      "                                64)                                                               \n",
      "                                                                                                  \n",
      " dropout_33 (Dropout)           (None, None, None,   0           ['conv2d_33[0][0]']              \n",
      "                                64)                                                               \n",
      "                                                                                                  \n",
      " max_pooling2d_3 (MaxPooling2D)  (None, None, None,   0          ['dropout_33[0][0]']             \n",
      "                                64)                                                               \n",
      "                                                                                                  \n",
      " conv2d_36 (Conv2D)             (None, None, None,   73856       ['max_pooling2d_3[0][0]']        \n",
      "                                128)                                                              \n",
      "                                                                                                  \n",
      " dropout_36 (Dropout)           (None, None, None,   0           ['conv2d_36[0][0]']              \n",
      "                                128)                                                              \n",
      "                                                                                                  \n",
      " conv2d_37 (Conv2D)             (None, None, None,   147584      ['dropout_36[0][0]']             \n",
      "                                128)                                                              \n",
      "                                                                                                  \n",
      " dropout_37 (Dropout)           (None, None, None,   0           ['conv2d_37[0][0]']              \n",
      "                                128)                                                              \n",
      "                                                                                                  \n",
      " pool3 (MaxPooling2D)           (None, None, None,   0           ['dropout_37[0][0]']             \n",
      "                                128)                                                              \n",
      "                                                                                                  \n",
      " conv2d_42 (Conv2D)             (None, None, None,   295168      ['pool3[0][0]']                  \n",
      "                                256)                                                              \n",
      "                                                                                                  \n",
      " dropout_42 (Dropout)           (None, None, None,   0           ['conv2d_42[0][0]']              \n",
      "                                256)                                                              \n",
      "                                                                                                  \n",
      " conv2d_43 (Conv2D)             (None, None, None,   590080      ['dropout_42[0][0]']             \n",
      "                                256)                                                              \n",
      "                                                                                                  \n",
      " dropout_43 (Dropout)           (None, None, None,   0           ['conv2d_43[0][0]']              \n",
      "                                256)                                                              \n",
      "                                                                                                  \n",
      " pool4 (MaxPooling2D)           (None, None, None,   0           ['dropout_43[0][0]']             \n",
      "                                256)                                                              \n",
      "                                                                                                  \n",
      " conv2d_50 (Conv2D)             (None, None, None,   1180160     ['pool4[0][0]']                  \n",
      "                                512)                                                              \n",
      "                                                                                                  \n",
      " dropout_50 (Dropout)           (None, None, None,   0           ['conv2d_50[0][0]']              \n",
      "                                512)                                                              \n",
      "                                                                                                  \n",
      " conv2d_51 (Conv2D)             (None, None, None,   2359808     ['dropout_50[0][0]']             \n",
      "                                512)                                                              \n",
      "                                                                                                  \n",
      " dropout_51 (Dropout)           (None, None, None,   0           ['conv2d_51[0][0]']              \n",
      "                                512)                                                              \n",
      "                                                                                                  \n",
      " up42 (Conv2DTranspose)         (None, None, None,   524544      ['dropout_51[0][0]']             \n",
      "                                256)                                                              \n",
      "                                                                                                  \n",
      " merge42 (Concatenate)          (None, None, None,   0           ['up42[0][0]',                   \n",
      "                                512)                              'dropout_43[0][0]']             \n",
      "                                                                                                  \n",
      " up32 (Conv2DTranspose)         (None, None, None,   131200      ['dropout_43[0][0]']             \n",
      "                                128)                                                              \n",
      "                                                                                                  \n",
      " conv2d_52 (Conv2D)             (None, None, None,   1179904     ['merge42[0][0]']                \n",
      "                                256)                                                              \n",
      "                                                                                                  \n",
      " merge32 (Concatenate)          (None, None, None,   0           ['up32[0][0]',                   \n",
      "                                256)                              'dropout_37[0][0]']             \n",
      "                                                                                                  \n",
      " up22 (Conv2DTranspose)         (None, None, None,   32832       ['dropout_37[0][0]']             \n",
      "                                64)                                                               \n",
      "                                                                                                  \n",
      " dropout_52 (Dropout)           (None, None, None,   0           ['conv2d_52[0][0]']              \n",
      "                                256)                                                              \n",
      "                                                                                                  \n",
      " conv2d_44 (Conv2D)             (None, None, None,   295040      ['merge32[0][0]']                \n",
      "                                128)                                                              \n",
      "                                                                                                  \n",
      " merge22 (Concatenate)          (None, None, None,   0           ['up22[0][0]',                   \n",
      "                                128)                              'dropout_33[0][0]']             \n",
      "                                                                                                  \n",
      " up12 (Conv2DTranspose)         (None, None, None,   8224        ['dropout_33[0][0]']             \n",
      "                                32)                                                               \n",
      "                                                                                                  \n",
      " conv2d_53 (Conv2D)             (None, None, None,   590080      ['dropout_52[0][0]']             \n",
      "                                256)                                                              \n",
      "                                                                                                  \n",
      " dropout_44 (Dropout)           (None, None, None,   0           ['conv2d_44[0][0]']              \n",
      "                                128)                                                              \n",
      "                                                                                                  \n",
      " conv2d_38 (Conv2D)             (None, None, None,   73792       ['merge22[0][0]']                \n",
      "                                64)                                                               \n",
      "                                                                                                  \n",
      " merge12 (Concatenate)          (None, None, None,   0           ['up12[0][0]',                   \n",
      "                                64)                               'dropout_31[0][0]']             \n",
      "                                                                                                  \n",
      " dropout_53 (Dropout)           (None, None, None,   0           ['conv2d_53[0][0]']              \n",
      "                                256)                                                              \n",
      "                                                                                                  \n",
      " conv2d_45 (Conv2D)             (None, None, None,   147584      ['dropout_44[0][0]']             \n",
      "                                128)                                                              \n",
      "                                                                                                  \n",
      " dropout_38 (Dropout)           (None, None, None,   0           ['conv2d_38[0][0]']              \n",
      "                                64)                                                               \n",
      "                                                                                                  \n",
      " conv2d_34 (Conv2D)             (None, None, None,   18464       ['merge12[0][0]']                \n",
      "                                32)                                                               \n",
      "                                                                                                  \n",
      " up33 (Conv2DTranspose)         (None, None, None,   131200      ['dropout_53[0][0]']             \n",
      "                                128)                                                              \n",
      "                                                                                                  \n",
      " dropout_45 (Dropout)           (None, None, None,   0           ['conv2d_45[0][0]']              \n",
      "                                128)                                                              \n",
      "                                                                                                  \n",
      " conv2d_39 (Conv2D)             (None, None, None,   36928       ['dropout_38[0][0]']             \n",
      "                                64)                                                               \n",
      "                                                                                                  \n",
      " dropout_34 (Dropout)           (None, None, None,   0           ['conv2d_34[0][0]']              \n",
      "                                32)                                                               \n",
      "                                                                                                  \n",
      " merge33 (Concatenate)          (None, None, None,   0           ['up33[0][0]',                   \n",
      "                                384)                              'dropout_37[0][0]',             \n",
      "                                                                  'dropout_45[0][0]']             \n",
      "                                                                                                  \n",
      " dropout_39 (Dropout)           (None, None, None,   0           ['conv2d_39[0][0]']              \n",
      "                                64)                                                               \n",
      "                                                                                                  \n",
      " up23 (Conv2DTranspose)         (None, None, None,   32832       ['dropout_45[0][0]']             \n",
      "                                64)                                                               \n",
      "                                                                                                  \n",
      " conv2d_35 (Conv2D)             (None, None, None,   9248        ['dropout_34[0][0]']             \n",
      "                                32)                                                               \n",
      "                                                                                                  \n",
      " conv2d_54 (Conv2D)             (None, None, None,   442496      ['merge33[0][0]']                \n",
      "                                128)                                                              \n",
      "                                                                                                  \n",
      " merge23 (Concatenate)          (None, None, None,   0           ['up23[0][0]',                   \n",
      "                                192)                              'dropout_33[0][0]',             \n",
      "                                                                  'dropout_39[0][0]']             \n",
      "                                                                                                  \n",
      " dropout_35 (Dropout)           (None, None, None,   0           ['conv2d_35[0][0]']              \n",
      "                                32)                                                               \n",
      "                                                                                                  \n",
      " up13 (Conv2DTranspose)         (None, None, None,   8224        ['dropout_39[0][0]']             \n",
      "                                32)                                                               \n",
      "                                                                                                  \n",
      " dropout_54 (Dropout)           (None, None, None,   0           ['conv2d_54[0][0]']              \n",
      "                                128)                                                              \n",
      "                                                                                                  \n",
      " conv2d_46 (Conv2D)             (None, None, None,   110656      ['merge23[0][0]']                \n",
      "                                64)                                                               \n",
      "                                                                                                  \n",
      " merge13 (Concatenate)          (None, None, None,   0           ['up13[0][0]',                   \n",
      "                                96)                               'dropout_31[0][0]',             \n",
      "                                                                  'dropout_35[0][0]']             \n",
      "                                                                                                  \n",
      " conv2d_55 (Conv2D)             (None, None, None,   147584      ['dropout_54[0][0]']             \n",
      "                                128)                                                              \n",
      "                                                                                                  \n",
      " dropout_46 (Dropout)           (None, None, None,   0           ['conv2d_46[0][0]']              \n",
      "                                64)                                                               \n",
      "                                                                                                  \n",
      " conv2d_40 (Conv2D)             (None, None, None,   27680       ['merge13[0][0]']                \n",
      "                                32)                                                               \n",
      "                                                                                                  \n",
      " dropout_55 (Dropout)           (None, None, None,   0           ['conv2d_55[0][0]']              \n",
      "                                128)                                                              \n",
      "                                                                                                  \n",
      " conv2d_47 (Conv2D)             (None, None, None,   36928       ['dropout_46[0][0]']             \n",
      "                                64)                                                               \n",
      "                                                                                                  \n",
      " dropout_40 (Dropout)           (None, None, None,   0           ['conv2d_40[0][0]']              \n",
      "                                32)                                                               \n",
      "                                                                                                  \n",
      " up24 (Conv2DTranspose)         (None, None, None,   32832       ['dropout_55[0][0]']             \n",
      "                                64)                                                               \n",
      "                                                                                                  \n",
      " dropout_47 (Dropout)           (None, None, None,   0           ['conv2d_47[0][0]']              \n",
      "                                64)                                                               \n",
      "                                                                                                  \n",
      " conv2d_41 (Conv2D)             (None, None, None,   9248        ['dropout_40[0][0]']             \n",
      "                                32)                                                               \n",
      "                                                                                                  \n",
      " merge24 (Concatenate)          (None, None, None,   0           ['up24[0][0]',                   \n",
      "                                256)                              'dropout_33[0][0]',             \n",
      "                                                                  'dropout_39[0][0]',             \n",
      "                                                                  'dropout_47[0][0]']             \n",
      "                                                                                                  \n",
      " dropout_41 (Dropout)           (None, None, None,   0           ['conv2d_41[0][0]']              \n",
      "                                32)                                                               \n",
      "                                                                                                  \n",
      " up14 (Conv2DTranspose)         (None, None, None,   8224        ['dropout_47[0][0]']             \n",
      "                                32)                                                               \n",
      "                                                                                                  \n",
      " conv2d_56 (Conv2D)             (None, None, None,   147520      ['merge24[0][0]']                \n",
      "                                64)                                                               \n",
      "                                                                                                  \n",
      " merge14 (Concatenate)          (None, None, None,   0           ['up14[0][0]',                   \n",
      "                                128)                              'dropout_31[0][0]',             \n",
      "                                                                  'dropout_35[0][0]',             \n",
      "                                                                  'dropout_41[0][0]']             \n",
      "                                                                                                  \n",
      " dropout_56 (Dropout)           (None, None, None,   0           ['conv2d_56[0][0]']              \n",
      "                                64)                                                               \n",
      "                                                                                                  \n",
      " conv2d_48 (Conv2D)             (None, None, None,   36896       ['merge14[0][0]']                \n",
      "                                32)                                                               \n",
      "                                                                                                  \n",
      " conv2d_57 (Conv2D)             (None, None, None,   36928       ['dropout_56[0][0]']             \n",
      "                                64)                                                               \n",
      "                                                                                                  \n",
      " dropout_48 (Dropout)           (None, None, None,   0           ['conv2d_48[0][0]']              \n",
      "                                32)                                                               \n",
      "                                                                                                  \n",
      " dropout_57 (Dropout)           (None, None, None,   0           ['conv2d_57[0][0]']              \n",
      "                                64)                                                               \n",
      "                                                                                                  \n",
      " conv2d_49 (Conv2D)             (None, None, None,   9248        ['dropout_48[0][0]']             \n",
      "                                32)                                                               \n",
      "                                                                                                  \n",
      " up15 (Conv2DTranspose)         (None, None, None,   8224        ['dropout_57[0][0]']             \n",
      "                                32)                                                               \n",
      "                                                                                                  \n",
      " dropout_49 (Dropout)           (None, None, None,   0           ['conv2d_49[0][0]']              \n",
      "                                32)                                                               \n",
      "                                                                                                  \n",
      " merge15 (Concatenate)          (None, None, None,   0           ['up15[0][0]',                   \n",
      "                                160)                              'dropout_31[0][0]',             \n",
      "                                                                  'dropout_35[0][0]',             \n",
      "                                                                  'dropout_41[0][0]',             \n",
      "                                                                  'dropout_49[0][0]']             \n",
      "                                                                                                  \n",
      " conv2d_58 (Conv2D)             (None, None, None,   46112       ['merge15[0][0]']                \n",
      "                                32)                                                               \n",
      "                                                                                                  \n",
      " dropout_58 (Dropout)           (None, None, None,   0           ['conv2d_58[0][0]']              \n",
      "                                32)                                                               \n",
      "                                                                                                  \n",
      " conv2d_59 (Conv2D)             (None, None, None,   9248        ['dropout_58[0][0]']             \n",
      "                                32)                                                               \n",
      "                                                                                                  \n",
      " dropout_59 (Dropout)           (None, None, None,   0           ['conv2d_59[0][0]']              \n",
      "                                32)                                                               \n",
      "                                                                                                  \n",
      " output_4 (Conv2D)              (None, None, None,   33          ['dropout_59[0][0]']             \n",
      "                                1)                                                                \n",
      "                                                                                                  \n",
      "==================================================================================================\n",
      "Total params: 9,042,177\n",
      "Trainable params: 9,042,177\n",
      "Non-trainable params: 0\n",
      "__________________________________________________________________________________________________\n"
     ]
    }
   ],
   "source": [
    "model = compile_model(model, optimizer=optimizer, metrics=metrics, loss=loss)\n",
    "model.summary()"
   ]
  },
  {
   "cell_type": "markdown",
   "metadata": {
    "tags": []
   },
   "source": [
    "## Fit"
   ]
  },
  {
   "cell_type": "code",
   "execution_count": 34,
   "metadata": {
    "tags": []
   },
   "outputs": [
    {
     "name": "stdout",
     "output_type": "stream",
     "text": [
      "Epoch 1/100\n",
      "   6/1087 [..............................] - ETA: 4:09 - loss: 2.8125 - binary_crossentropy: 4.5824 - binary_focal_crossentropy: 4.3940 - bce_dice_loss: 2.8125 - jacc_coef: 0.6793 - auc_1: 0.5334WARNING:tensorflow:Callback method `on_train_batch_end` is slow compared to the batch time (batch time: 0.1030s vs `on_train_batch_end` time: 0.1272s). Check your callbacks.\n",
      "1087/1087 [==============================] - ETA: 0s - loss: 0.5761 - binary_crossentropy: 0.6095 - binary_focal_crossentropy: 0.4404 - bce_dice_loss: 0.5761 - jacc_coef: 0.4175 - auc_1: 0.8398\n",
      "Epoch 1: val_loss improved from inf to 0.55394, saving model to /home/jupyter/notebooks/models/checkpoints/UNetPlusPlus_biome8_epochs100_batch16_RGB/best_model.ckpt\n",
      "1087/1087 [==============================] - 266s 242ms/step - loss: 0.5761 - binary_crossentropy: 0.6095 - binary_focal_crossentropy: 0.4404 - bce_dice_loss: 0.5761 - jacc_coef: 0.4175 - auc_1: 0.8398 - val_loss: 0.5539 - val_binary_crossentropy: 0.3726 - val_binary_focal_crossentropy: 0.2586 - val_bce_dice_loss: 0.5539 - val_jacc_coef: 0.4421 - val_auc_1: 0.9586\n",
      "Epoch 2/100\n",
      "1087/1087 [==============================] - ETA: 0s - loss: 0.4869 - binary_crossentropy: 0.4949 - binary_focal_crossentropy: 0.3431 - bce_dice_loss: 0.4869 - jacc_coef: 0.3791 - auc_1: 0.8686\n",
      "Epoch 2: val_loss did not improve from 0.55394\n",
      "1087/1087 [==============================] - 261s 240ms/step - loss: 0.4869 - binary_crossentropy: 0.4949 - binary_focal_crossentropy: 0.3431 - bce_dice_loss: 0.4869 - jacc_coef: 0.3791 - auc_1: 0.8686 - val_loss: 0.5613 - val_binary_crossentropy: 0.3565 - val_binary_focal_crossentropy: 0.2042 - val_bce_dice_loss: 0.5613 - val_jacc_coef: 0.4656 - val_auc_1: 0.9450\n",
      "Epoch 3/100\n",
      "1087/1087 [==============================] - ETA: 0s - loss: 0.4754 - binary_crossentropy: 0.4802 - binary_focal_crossentropy: 0.3246 - bce_dice_loss: 0.4754 - jacc_coef: 0.3743 - auc_1: 0.8704\n",
      "Epoch 3: val_loss did not improve from 0.55394\n",
      "1087/1087 [==============================] - 259s 239ms/step - loss: 0.4754 - binary_crossentropy: 0.4802 - binary_focal_crossentropy: 0.3246 - bce_dice_loss: 0.4754 - jacc_coef: 0.3743 - auc_1: 0.8704 - val_loss: 0.8145 - val_binary_crossentropy: 0.7866 - val_binary_focal_crossentropy: 0.5985 - val_bce_dice_loss: 0.8145 - val_jacc_coef: 0.4916 - val_auc_1: 0.8334\n",
      "Epoch 4/100\n",
      "1087/1087 [==============================] - ETA: 0s - loss: 0.4437 - binary_crossentropy: 0.4476 - binary_focal_crossentropy: 0.3028 - bce_dice_loss: 0.4437 - jacc_coef: 0.3545 - auc_1: 0.8810\n",
      "Epoch 4: val_loss did not improve from 0.55394\n",
      "1087/1087 [==============================] - 259s 238ms/step - loss: 0.4437 - binary_crossentropy: 0.4476 - binary_focal_crossentropy: 0.3028 - bce_dice_loss: 0.4437 - jacc_coef: 0.3545 - auc_1: 0.8810 - val_loss: 1.0677 - val_binary_crossentropy: 1.1204 - val_binary_focal_crossentropy: 0.8601 - val_bce_dice_loss: 1.0677 - val_jacc_coef: 0.5688 - val_auc_1: 0.7842\n",
      "Epoch 5/100\n",
      "1087/1087 [==============================] - ETA: 0s - loss: 0.4282 - binary_crossentropy: 0.4315 - binary_focal_crossentropy: 0.2924 - bce_dice_loss: 0.4282 - jacc_coef: 0.3441 - auc_1: 0.8892\n",
      "Epoch 5: val_loss did not improve from 0.55394\n",
      "1087/1087 [==============================] - 258s 237ms/step - loss: 0.4282 - binary_crossentropy: 0.4315 - binary_focal_crossentropy: 0.2924 - bce_dice_loss: 0.4282 - jacc_coef: 0.3441 - auc_1: 0.8892 - val_loss: 0.8606 - val_binary_crossentropy: 0.7695 - val_binary_focal_crossentropy: 0.5392 - val_bce_dice_loss: 0.8606 - val_jacc_coef: 0.5436 - val_auc_1: 0.8449\n",
      "Epoch 6/100\n",
      "1087/1087 [==============================] - ETA: 0s - loss: 0.4176 - binary_crossentropy: 0.4202 - binary_focal_crossentropy: 0.2847 - bce_dice_loss: 0.4176 - jacc_coef: 0.3373 - auc_1: 0.8944\n",
      "Epoch 6: val_loss did not improve from 0.55394\n",
      "1087/1087 [==============================] - 258s 238ms/step - loss: 0.4176 - binary_crossentropy: 0.4202 - binary_focal_crossentropy: 0.2847 - bce_dice_loss: 0.4176 - jacc_coef: 0.3373 - auc_1: 0.8944 - val_loss: 0.7328 - val_binary_crossentropy: 0.6688 - val_binary_focal_crossentropy: 0.5000 - val_bce_dice_loss: 0.7328 - val_jacc_coef: 0.4659 - val_auc_1: 0.8891\n",
      "Epoch 7/100\n",
      "1087/1087 [==============================] - ETA: 0s - loss: 0.4041 - binary_crossentropy: 0.4079 - binary_focal_crossentropy: 0.2771 - bce_dice_loss: 0.4041 - jacc_coef: 0.3279 - auc_1: 0.9011\n",
      "Epoch 7: val_loss did not improve from 0.55394\n",
      "1087/1087 [==============================] - 258s 237ms/step - loss: 0.4041 - binary_crossentropy: 0.4079 - binary_focal_crossentropy: 0.2771 - bce_dice_loss: 0.4041 - jacc_coef: 0.3279 - auc_1: 0.9011 - val_loss: 0.6797 - val_binary_crossentropy: 0.5654 - val_binary_focal_crossentropy: 0.4120 - val_bce_dice_loss: 0.6797 - val_jacc_coef: 0.4722 - val_auc_1: 0.9011\n",
      "Epoch 8/100\n",
      "1087/1087 [==============================] - ETA: 0s - loss: 0.3951 - binary_crossentropy: 0.3986 - binary_focal_crossentropy: 0.2709 - bce_dice_loss: 0.3951 - jacc_coef: 0.3216 - auc_1: 0.9053\n",
      "Epoch 8: val_loss did not improve from 0.55394\n",
      "1087/1087 [==============================] - 258s 237ms/step - loss: 0.3951 - binary_crossentropy: 0.3986 - binary_focal_crossentropy: 0.2709 - bce_dice_loss: 0.3951 - jacc_coef: 0.3216 - auc_1: 0.9053 - val_loss: 1.1138 - val_binary_crossentropy: 1.2804 - val_binary_focal_crossentropy: 1.1310 - val_bce_dice_loss: 1.1138 - val_jacc_coef: 0.5375 - val_auc_1: 0.6318\n",
      "Epoch 9/100\n",
      "1087/1087 [==============================] - ETA: 0s - loss: 0.3837 - binary_crossentropy: 0.3897 - binary_focal_crossentropy: 0.2677 - bce_dice_loss: 0.3837 - jacc_coef: 0.3119 - auc_1: 0.9105\n",
      "Epoch 9: val_loss did not improve from 0.55394\n",
      "1087/1087 [==============================] - 258s 237ms/step - loss: 0.3837 - binary_crossentropy: 0.3897 - binary_focal_crossentropy: 0.2677 - bce_dice_loss: 0.3837 - jacc_coef: 0.3119 - auc_1: 0.9105 - val_loss: 0.7264 - val_binary_crossentropy: 0.6894 - val_binary_focal_crossentropy: 0.5370 - val_bce_dice_loss: 0.7264 - val_jacc_coef: 0.4448 - val_auc_1: 0.8493\n",
      "Epoch 10/100\n",
      "1087/1087 [==============================] - ETA: 0s - loss: 0.3587 - binary_crossentropy: 0.3647 - binary_focal_crossentropy: 0.2533 - bce_dice_loss: 0.3587 - jacc_coef: 0.2941 - auc_1: 0.9226\n",
      "Epoch 10: val_loss did not improve from 0.55394\n",
      "1087/1087 [==============================] - 258s 237ms/step - loss: 0.3587 - binary_crossentropy: 0.3647 - binary_focal_crossentropy: 0.2533 - bce_dice_loss: 0.3587 - jacc_coef: 0.2941 - auc_1: 0.9226 - val_loss: 0.9963 - val_binary_crossentropy: 1.1290 - val_binary_focal_crossentropy: 0.9671 - val_bce_dice_loss: 0.9963 - val_jacc_coef: 0.5028 - val_auc_1: 0.6206\n",
      "Epoch 11/100\n",
      "1087/1087 [==============================] - ETA: 0s - loss: 0.3297 - binary_crossentropy: 0.3368 - binary_focal_crossentropy: 0.2363 - bce_dice_loss: 0.3297 - jacc_coef: 0.2725 - auc_1: 0.9348\n",
      "Epoch 11: val_loss did not improve from 0.55394\n",
      "1087/1087 [==============================] - 258s 238ms/step - loss: 0.3297 - binary_crossentropy: 0.3368 - binary_focal_crossentropy: 0.2363 - bce_dice_loss: 0.3297 - jacc_coef: 0.2725 - auc_1: 0.9348 - val_loss: 0.7885 - val_binary_crossentropy: 0.8339 - val_binary_focal_crossentropy: 0.7206 - val_bce_dice_loss: 0.7885 - val_jacc_coef: 0.4245 - val_auc_1: 0.8765\n",
      "Epoch 12/100\n",
      "1087/1087 [==============================] - ETA: 0s - loss: 0.3072 - binary_crossentropy: 0.3145 - binary_focal_crossentropy: 0.2213 - bce_dice_loss: 0.3072 - jacc_coef: 0.2560 - auc_1: 0.9437\n",
      "Epoch 12: val_loss did not improve from 0.55394\n",
      "1087/1087 [==============================] - 258s 237ms/step - loss: 0.3072 - binary_crossentropy: 0.3145 - binary_focal_crossentropy: 0.2213 - bce_dice_loss: 0.3072 - jacc_coef: 0.2560 - auc_1: 0.9437 - val_loss: 0.5940 - val_binary_crossentropy: 0.5342 - val_binary_focal_crossentropy: 0.4591 - val_bce_dice_loss: 0.5940 - val_jacc_coef: 0.3960 - val_auc_1: 0.9308\n",
      "Epoch 13/100\n",
      "1087/1087 [==============================] - ETA: 0s - loss: 0.3048 - binary_crossentropy: 0.3127 - binary_focal_crossentropy: 0.2203 - bce_dice_loss: 0.3048 - jacc_coef: 0.2538 - auc_1: 0.9452\n",
      "Epoch 13: val_loss did not improve from 0.55394\n",
      "1087/1087 [==============================] - 258s 237ms/step - loss: 0.3048 - binary_crossentropy: 0.3127 - binary_focal_crossentropy: 0.2203 - bce_dice_loss: 0.3048 - jacc_coef: 0.2538 - auc_1: 0.9452 - val_loss: 1.2658 - val_binary_crossentropy: 1.4771 - val_binary_focal_crossentropy: 1.3446 - val_bce_dice_loss: 1.2658 - val_jacc_coef: 0.6281 - val_auc_1: 0.6148\n",
      "Epoch 14/100\n",
      "1087/1087 [==============================] - ETA: 0s - loss: 0.2924 - binary_crossentropy: 0.2973 - binary_focal_crossentropy: 0.2074 - bce_dice_loss: 0.2924 - jacc_coef: 0.2465 - auc_1: 0.9513\n",
      "Epoch 14: val_loss did not improve from 0.55394\n",
      "1087/1087 [==============================] - 258s 237ms/step - loss: 0.2924 - binary_crossentropy: 0.2973 - binary_focal_crossentropy: 0.2074 - bce_dice_loss: 0.2924 - jacc_coef: 0.2465 - auc_1: 0.9513 - val_loss: 1.2885 - val_binary_crossentropy: 1.5915 - val_binary_focal_crossentropy: 1.5293 - val_bce_dice_loss: 1.2885 - val_jacc_coef: 0.5798 - val_auc_1: 0.6984\n",
      "Epoch 15/100\n",
      "1087/1087 [==============================] - ETA: 0s - loss: 0.2811 - binary_crossentropy: 0.2864 - binary_focal_crossentropy: 0.2009 - bce_dice_loss: 0.2811 - jacc_coef: 0.2378 - auc_1: 0.9546\n",
      "Epoch 15: val_loss did not improve from 0.55394\n",
      "1087/1087 [==============================] - 258s 237ms/step - loss: 0.2811 - binary_crossentropy: 0.2864 - binary_focal_crossentropy: 0.2009 - bce_dice_loss: 0.2811 - jacc_coef: 0.2378 - auc_1: 0.9546 - val_loss: 0.8140 - val_binary_crossentropy: 0.8357 - val_binary_focal_crossentropy: 0.7398 - val_bce_dice_loss: 0.8140 - val_jacc_coef: 0.4849 - val_auc_1: 0.8396\n",
      "Epoch 16/100\n",
      "1087/1087 [==============================] - ETA: 0s - loss: 0.2735 - binary_crossentropy: 0.2769 - binary_focal_crossentropy: 0.1921 - bce_dice_loss: 0.2735 - jacc_coef: 0.2336 - auc_1: 0.9578\n",
      "Epoch 16: val_loss did not improve from 0.55394\n",
      "1087/1087 [==============================] - 258s 237ms/step - loss: 0.2735 - binary_crossentropy: 0.2769 - binary_focal_crossentropy: 0.1921 - bce_dice_loss: 0.2735 - jacc_coef: 0.2336 - auc_1: 0.9578 - val_loss: 1.3850 - val_binary_crossentropy: 1.7245 - val_binary_focal_crossentropy: 1.6801 - val_bce_dice_loss: 1.3850 - val_jacc_coef: 0.5972 - val_auc_1: 0.6529\n",
      "Epoch 17/100\n",
      "1087/1087 [==============================] - ETA: 0s - loss: 0.2653 - binary_crossentropy: 0.2698 - binary_focal_crossentropy: 0.1885 - bce_dice_loss: 0.2653 - jacc_coef: 0.2262 - auc_1: 0.9599\n",
      "Epoch 17: val_loss did not improve from 0.55394\n",
      "1087/1087 [==============================] - 258s 238ms/step - loss: 0.2653 - binary_crossentropy: 0.2698 - binary_focal_crossentropy: 0.1885 - bce_dice_loss: 0.2653 - jacc_coef: 0.2262 - auc_1: 0.9599 - val_loss: 1.4396 - val_binary_crossentropy: 1.8099 - val_binary_focal_crossentropy: 1.7247 - val_bce_dice_loss: 1.4396 - val_jacc_coef: 0.6219 - val_auc_1: 0.5973\n",
      "Epoch 18/100\n",
      "1087/1087 [==============================] - ETA: 0s - loss: 0.2645 - binary_crossentropy: 0.2688 - binary_focal_crossentropy: 0.1869 - bce_dice_loss: 0.2645 - jacc_coef: 0.2262 - auc_1: 0.9605\n",
      "Epoch 18: val_loss did not improve from 0.55394\n",
      "1087/1087 [==============================] - 259s 238ms/step - loss: 0.2645 - binary_crossentropy: 0.2688 - binary_focal_crossentropy: 0.1869 - bce_dice_loss: 0.2645 - jacc_coef: 0.2262 - auc_1: 0.9605 - val_loss: 1.0794 - val_binary_crossentropy: 1.1523 - val_binary_focal_crossentropy: 1.0437 - val_bce_dice_loss: 1.0794 - val_jacc_coef: 0.5960 - val_auc_1: 0.6863\n",
      "Epoch 19/100\n",
      "1087/1087 [==============================] - ETA: 0s - loss: 0.2559 - binary_crossentropy: 0.2597 - binary_focal_crossentropy: 0.1813 - bce_dice_loss: 0.2559 - jacc_coef: 0.2198 - auc_1: 0.9629\n",
      "Epoch 19: val_loss did not improve from 0.55394\n",
      "1087/1087 [==============================] - 259s 238ms/step - loss: 0.2559 - binary_crossentropy: 0.2597 - binary_focal_crossentropy: 0.1813 - bce_dice_loss: 0.2559 - jacc_coef: 0.2198 - auc_1: 0.9629 - val_loss: 1.2119 - val_binary_crossentropy: 1.4623 - val_binary_focal_crossentropy: 1.3396 - val_bce_dice_loss: 1.2119 - val_jacc_coef: 0.5665 - val_auc_1: 0.6935\n",
      "Epoch 20/100\n",
      "1087/1087 [==============================] - ETA: 0s - loss: 0.2511 - binary_crossentropy: 0.2562 - binary_focal_crossentropy: 0.1788 - bce_dice_loss: 0.2511 - jacc_coef: 0.2155 - auc_1: 0.9640\n",
      "Epoch 20: val_loss improved from 0.55394 to 0.43162, saving model to /home/jupyter/notebooks/models/checkpoints/UNetPlusPlus_biome8_epochs100_batch16_RGB/best_model.ckpt\n",
      "1087/1087 [==============================] - 259s 238ms/step - loss: 0.2511 - binary_crossentropy: 0.2562 - binary_focal_crossentropy: 0.1788 - bce_dice_loss: 0.2511 - jacc_coef: 0.2155 - auc_1: 0.9640 - val_loss: 0.4316 - val_binary_crossentropy: 0.2214 - val_binary_focal_crossentropy: 0.1787 - val_bce_dice_loss: 0.4316 - val_jacc_coef: 0.3886 - val_auc_1: 0.9685\n",
      "Epoch 21/100\n",
      "1087/1087 [==============================] - ETA: 0s - loss: 0.2460 - binary_crossentropy: 0.2506 - binary_focal_crossentropy: 0.1744 - bce_dice_loss: 0.2460 - jacc_coef: 0.2118 - auc_1: 0.9657\n",
      "Epoch 21: val_loss did not improve from 0.43162\n",
      "1087/1087 [==============================] - 259s 238ms/step - loss: 0.2460 - binary_crossentropy: 0.2506 - binary_focal_crossentropy: 0.1744 - bce_dice_loss: 0.2460 - jacc_coef: 0.2118 - auc_1: 0.9657 - val_loss: 0.5995 - val_binary_crossentropy: 0.4038 - val_binary_focal_crossentropy: 0.2778 - val_bce_dice_loss: 0.5995 - val_jacc_coef: 0.4844 - val_auc_1: 0.9273\n",
      "Epoch 22/100\n",
      "1087/1087 [==============================] - ETA: 0s - loss: 0.2449 - binary_crossentropy: 0.2496 - binary_focal_crossentropy: 0.1749 - bce_dice_loss: 0.2449 - jacc_coef: 0.2108 - auc_1: 0.9660\n",
      "Epoch 22: val_loss improved from 0.43162 to 0.42315, saving model to /home/jupyter/notebooks/models/checkpoints/UNetPlusPlus_biome8_epochs100_batch16_RGB/best_model.ckpt\n",
      "1087/1087 [==============================] - 259s 238ms/step - loss: 0.2449 - binary_crossentropy: 0.2496 - binary_focal_crossentropy: 0.1749 - bce_dice_loss: 0.2449 - jacc_coef: 0.2108 - auc_1: 0.9660 - val_loss: 0.4232 - val_binary_crossentropy: 0.2327 - val_binary_focal_crossentropy: 0.1823 - val_bce_dice_loss: 0.4232 - val_jacc_coef: 0.3701 - val_auc_1: 0.9682\n",
      "Epoch 23/100\n",
      "1087/1087 [==============================] - ETA: 0s - loss: 0.2405 - binary_crossentropy: 0.2451 - binary_focal_crossentropy: 0.1715 - bce_dice_loss: 0.2405 - jacc_coef: 0.2072 - auc_1: 0.9672\n",
      "Epoch 23: val_loss did not improve from 0.42315\n",
      "1087/1087 [==============================] - 259s 238ms/step - loss: 0.2405 - binary_crossentropy: 0.2451 - binary_focal_crossentropy: 0.1715 - bce_dice_loss: 0.2405 - jacc_coef: 0.2072 - auc_1: 0.9672 - val_loss: 0.4235 - val_binary_crossentropy: 0.2043 - val_binary_focal_crossentropy: 0.1355 - val_bce_dice_loss: 0.4235 - val_jacc_coef: 0.3876 - val_auc_1: 0.9782\n",
      "Epoch 24/100\n",
      "1087/1087 [==============================] - ETA: 0s - loss: 0.2356 - binary_crossentropy: 0.2412 - binary_focal_crossentropy: 0.1694 - bce_dice_loss: 0.2356 - jacc_coef: 0.2032 - auc_1: 0.9682\n",
      "Epoch 24: val_loss did not improve from 0.42315\n",
      "1087/1087 [==============================] - 259s 238ms/step - loss: 0.2356 - binary_crossentropy: 0.2412 - binary_focal_crossentropy: 0.1694 - bce_dice_loss: 0.2356 - jacc_coef: 0.2032 - auc_1: 0.9682 - val_loss: 0.4678 - val_binary_crossentropy: 0.2437 - val_binary_focal_crossentropy: 0.1523 - val_bce_dice_loss: 0.4678 - val_jacc_coef: 0.4234 - val_auc_1: 0.9703\n",
      "Epoch 25/100\n",
      "1087/1087 [==============================] - ETA: 0s - loss: 0.2292 - binary_crossentropy: 0.2348 - binary_focal_crossentropy: 0.1656 - bce_dice_loss: 0.2292 - jacc_coef: 0.1979 - auc_1: 0.9697\n",
      "Epoch 25: val_loss did not improve from 0.42315\n",
      "1087/1087 [==============================] - 259s 238ms/step - loss: 0.2292 - binary_crossentropy: 0.2348 - binary_focal_crossentropy: 0.1656 - bce_dice_loss: 0.2292 - jacc_coef: 0.1979 - auc_1: 0.9697 - val_loss: 0.4850 - val_binary_crossentropy: 0.3471 - val_binary_focal_crossentropy: 0.2688 - val_bce_dice_loss: 0.4850 - val_jacc_coef: 0.3725 - val_auc_1: 0.9689\n",
      "Epoch 26/100\n",
      "1087/1087 [==============================] - ETA: 0s - loss: 0.2352 - binary_crossentropy: 0.2420 - binary_focal_crossentropy: 0.1719 - bce_dice_loss: 0.2352 - jacc_coef: 0.2016 - auc_1: 0.9673\n",
      "Epoch 26: val_loss did not improve from 0.42315\n",
      "1087/1087 [==============================] - 258s 238ms/step - loss: 0.2352 - binary_crossentropy: 0.2420 - binary_focal_crossentropy: 0.1719 - bce_dice_loss: 0.2352 - jacc_coef: 0.2016 - auc_1: 0.9673 - val_loss: 0.5755 - val_binary_crossentropy: 0.5357 - val_binary_focal_crossentropy: 0.4763 - val_bce_dice_loss: 0.5755 - val_jacc_coef: 0.3692 - val_auc_1: 0.9117\n",
      "Epoch 27/100\n",
      "1087/1087 [==============================] - ETA: 0s - loss: 0.2340 - binary_crossentropy: 0.2394 - binary_focal_crossentropy: 0.1692 - bce_dice_loss: 0.2340 - jacc_coef: 0.2014 - auc_1: 0.9683\n",
      "Epoch 27: val_loss did not improve from 0.42315\n",
      "1087/1087 [==============================] - 259s 238ms/step - loss: 0.2340 - binary_crossentropy: 0.2394 - binary_focal_crossentropy: 0.1692 - bce_dice_loss: 0.2340 - jacc_coef: 0.2014 - auc_1: 0.9683 - val_loss: 0.6325 - val_binary_crossentropy: 0.6348 - val_binary_focal_crossentropy: 0.5745 - val_bce_dice_loss: 0.6325 - val_jacc_coef: 0.3830 - val_auc_1: 0.8700\n",
      "Epoch 28/100\n",
      "1087/1087 [==============================] - ETA: 0s - loss: 0.2207 - binary_crossentropy: 0.2288 - binary_focal_crossentropy: 0.1644 - bce_dice_loss: 0.2207 - jacc_coef: 0.1891 - auc_1: 0.9706\n",
      "Epoch 28: val_loss did not improve from 0.42315\n",
      "1087/1087 [==============================] - 259s 238ms/step - loss: 0.2207 - binary_crossentropy: 0.2288 - binary_focal_crossentropy: 0.1644 - bce_dice_loss: 0.2207 - jacc_coef: 0.1891 - auc_1: 0.9706 - val_loss: 0.6709 - val_binary_crossentropy: 0.5928 - val_binary_focal_crossentropy: 0.5007 - val_bce_dice_loss: 0.6709 - val_jacc_coef: 0.4550 - val_auc_1: 0.8688\n",
      "Epoch 29/100\n",
      "1087/1087 [==============================] - ETA: 0s - loss: 0.2214 - binary_crossentropy: 0.2286 - binary_focal_crossentropy: 0.1626 - bce_dice_loss: 0.2214 - jacc_coef: 0.1904 - auc_1: 0.9708\n",
      "Epoch 29: val_loss did not improve from 0.42315\n",
      "1087/1087 [==============================] - 259s 238ms/step - loss: 0.2214 - binary_crossentropy: 0.2286 - binary_focal_crossentropy: 0.1626 - bce_dice_loss: 0.2214 - jacc_coef: 0.1904 - auc_1: 0.9708 - val_loss: 0.6366 - val_binary_crossentropy: 0.4495 - val_binary_focal_crossentropy: 0.2945 - val_bce_dice_loss: 0.6366 - val_jacc_coef: 0.4869 - val_auc_1: 0.9360\n",
      "Epoch 30/100\n",
      "1087/1087 [==============================] - ETA: 0s - loss: 0.2189 - binary_crossentropy: 0.2257 - binary_focal_crossentropy: 0.1618 - bce_dice_loss: 0.2189 - jacc_coef: 0.1881 - auc_1: 0.9714\n",
      "Epoch 30: val_loss did not improve from 0.42315\n",
      "1087/1087 [==============================] - 258s 238ms/step - loss: 0.2189 - binary_crossentropy: 0.2257 - binary_focal_crossentropy: 0.1618 - bce_dice_loss: 0.2189 - jacc_coef: 0.1881 - auc_1: 0.9714 - val_loss: 0.7503 - val_binary_crossentropy: 0.7763 - val_binary_focal_crossentropy: 0.7024 - val_bce_dice_loss: 0.7503 - val_jacc_coef: 0.4395 - val_auc_1: 0.8707\n",
      "Epoch 31/100\n",
      "1087/1087 [==============================] - ETA: 0s - loss: 0.2200 - binary_crossentropy: 0.2280 - binary_focal_crossentropy: 0.1642 - bce_dice_loss: 0.2200 - jacc_coef: 0.1881 - auc_1: 0.9707\n",
      "Epoch 31: val_loss did not improve from 0.42315\n",
      "1087/1087 [==============================] - 258s 238ms/step - loss: 0.2200 - binary_crossentropy: 0.2280 - binary_focal_crossentropy: 0.1642 - bce_dice_loss: 0.2200 - jacc_coef: 0.1881 - auc_1: 0.9707 - val_loss: 0.5818 - val_binary_crossentropy: 0.5025 - val_binary_focal_crossentropy: 0.4333 - val_bce_dice_loss: 0.5818 - val_jacc_coef: 0.3992 - val_auc_1: 0.9317\n",
      "Epoch 32/100\n",
      "1087/1087 [==============================] - ETA: 0s - loss: 0.2037 - binary_crossentropy: 0.2111 - binary_focal_crossentropy: 0.1524 - bce_dice_loss: 0.2037 - jacc_coef: 0.1759 - auc_1: 0.9746\n",
      "Epoch 32: val_loss did not improve from 0.42315\n",
      "1087/1087 [==============================] - 258s 237ms/step - loss: 0.2037 - binary_crossentropy: 0.2111 - binary_focal_crossentropy: 0.1524 - bce_dice_loss: 0.2037 - jacc_coef: 0.1759 - auc_1: 0.9746 - val_loss: 0.6662 - val_binary_crossentropy: 0.6594 - val_binary_focal_crossentropy: 0.5992 - val_bce_dice_loss: 0.6662 - val_jacc_coef: 0.4083 - val_auc_1: 0.8643\n",
      "Epoch 33/100\n",
      "1087/1087 [==============================] - ETA: 0s - loss: 0.2135 - binary_crossentropy: 0.2205 - binary_focal_crossentropy: 0.1585 - bce_dice_loss: 0.2135 - jacc_coef: 0.1839 - auc_1: 0.9727\n",
      "Epoch 33: val_loss did not improve from 0.42315\n",
      "1087/1087 [==============================] - 258s 238ms/step - loss: 0.2135 - binary_crossentropy: 0.2205 - binary_focal_crossentropy: 0.1585 - bce_dice_loss: 0.2135 - jacc_coef: 0.1839 - auc_1: 0.9727 - val_loss: 0.5207 - val_binary_crossentropy: 0.4219 - val_binary_focal_crossentropy: 0.3557 - val_bce_dice_loss: 0.5207 - val_jacc_coef: 0.3702 - val_auc_1: 0.9344\n",
      "Epoch 34/100\n",
      "1087/1087 [==============================] - ETA: 0s - loss: 0.2061 - binary_crossentropy: 0.2134 - binary_focal_crossentropy: 0.1540 - bce_dice_loss: 0.2061 - jacc_coef: 0.1779 - auc_1: 0.9743\n",
      "Epoch 34: val_loss did not improve from 0.42315\n",
      "1087/1087 [==============================] - 258s 238ms/step - loss: 0.2061 - binary_crossentropy: 0.2134 - binary_focal_crossentropy: 0.1540 - bce_dice_loss: 0.2061 - jacc_coef: 0.1779 - auc_1: 0.9743 - val_loss: 1.0930 - val_binary_crossentropy: 1.0859 - val_binary_focal_crossentropy: 0.9386 - val_bce_dice_loss: 1.0930 - val_jacc_coef: 0.6269 - val_auc_1: 0.7464\n",
      "Epoch 35/100\n",
      "1087/1087 [==============================] - ETA: 0s - loss: 0.2042 - binary_crossentropy: 0.2130 - binary_focal_crossentropy: 0.1541 - bce_dice_loss: 0.2042 - jacc_coef: 0.1752 - auc_1: 0.9742\n",
      "Epoch 35: val_loss did not improve from 0.42315\n",
      "1087/1087 [==============================] - 258s 238ms/step - loss: 0.2042 - binary_crossentropy: 0.2130 - binary_focal_crossentropy: 0.1541 - bce_dice_loss: 0.2042 - jacc_coef: 0.1752 - auc_1: 0.9742 - val_loss: 0.8280 - val_binary_crossentropy: 0.9124 - val_binary_focal_crossentropy: 0.8560 - val_bce_dice_loss: 0.8280 - val_jacc_coef: 0.4543 - val_auc_1: 0.8164\n",
      "Epoch 36/100\n",
      "1087/1087 [==============================] - ETA: 0s - loss: 0.1983 - binary_crossentropy: 0.2039 - binary_focal_crossentropy: 0.1459 - bce_dice_loss: 0.1983 - jacc_coef: 0.1727 - auc_1: 0.9767\n",
      "Epoch 36: val_loss did not improve from 0.42315\n",
      "1087/1087 [==============================] - 258s 237ms/step - loss: 0.1983 - binary_crossentropy: 0.2039 - binary_focal_crossentropy: 0.1459 - bce_dice_loss: 0.1983 - jacc_coef: 0.1727 - auc_1: 0.9767 - val_loss: 0.9311 - val_binary_crossentropy: 1.1316 - val_binary_focal_crossentropy: 1.0854 - val_bce_dice_loss: 0.9311 - val_jacc_coef: 0.4360 - val_auc_1: 0.7826\n",
      "Epoch 37/100\n",
      "1087/1087 [==============================] - ETA: 0s - loss: 0.1912 - binary_crossentropy: 0.1986 - binary_focal_crossentropy: 0.1435 - bce_dice_loss: 0.1912 - jacc_coef: 0.1658 - auc_1: 0.9774\n",
      "Epoch 37: val_loss did not improve from 0.42315\n",
      "1087/1087 [==============================] - 257s 237ms/step - loss: 0.1912 - binary_crossentropy: 0.1986 - binary_focal_crossentropy: 0.1435 - bce_dice_loss: 0.1912 - jacc_coef: 0.1658 - auc_1: 0.9774 - val_loss: 1.2751 - val_binary_crossentropy: 1.5144 - val_binary_focal_crossentropy: 1.4039 - val_bce_dice_loss: 1.2751 - val_jacc_coef: 0.5859 - val_auc_1: 0.7047\n",
      "Epoch 38/100\n",
      "1087/1087 [==============================] - ETA: 0s - loss: 0.2004 - binary_crossentropy: 0.2081 - binary_focal_crossentropy: 0.1506 - bce_dice_loss: 0.2004 - jacc_coef: 0.1728 - auc_1: 0.9754\n",
      "Epoch 38: val_loss did not improve from 0.42315\n",
      "1087/1087 [==============================] - 258s 237ms/step - loss: 0.2004 - binary_crossentropy: 0.2081 - binary_focal_crossentropy: 0.1506 - bce_dice_loss: 0.2004 - jacc_coef: 0.1728 - auc_1: 0.9754 - val_loss: 0.9049 - val_binary_crossentropy: 0.9822 - val_binary_focal_crossentropy: 0.9045 - val_bce_dice_loss: 0.9049 - val_jacc_coef: 0.4790 - val_auc_1: 0.8467\n",
      "Epoch 39/100\n",
      "1087/1087 [==============================] - ETA: 0s - loss: 0.1950 - binary_crossentropy: 0.2030 - binary_focal_crossentropy: 0.1474 - bce_dice_loss: 0.1950 - jacc_coef: 0.1678 - auc_1: 0.9764\n",
      "Epoch 39: val_loss did not improve from 0.42315\n",
      "1087/1087 [==============================] - 258s 237ms/step - loss: 0.1950 - binary_crossentropy: 0.2030 - binary_focal_crossentropy: 0.1474 - bce_dice_loss: 0.1950 - jacc_coef: 0.1678 - auc_1: 0.9764 - val_loss: 1.2934 - val_binary_crossentropy: 1.5191 - val_binary_focal_crossentropy: 1.3863 - val_bce_dice_loss: 1.2934 - val_jacc_coef: 0.5973 - val_auc_1: 0.7056\n",
      "Epoch 40/100\n",
      " 609/1087 [===============>..............] - ETA: 1:49 - loss: 0.1971 - binary_crossentropy: 0.2055 - binary_focal_crossentropy: 0.1485 - bce_dice_loss: 0.1971 - jacc_coef: 0.1697 - auc_1: 0.9760"
     ]
    },
    {
     "name": "stderr",
     "output_type": "stream",
     "text": [
      "IOPub data rate exceeded.\n",
      "The Jupyter server will temporarily stop sending output\n",
      "to the client in order to avoid crashing it.\n",
      "To change this limit, set the config variable\n",
      "`--ServerApp.iopub_data_rate_limit`.\n",
      "\n",
      "Current values:\n",
      "ServerApp.iopub_data_rate_limit=1000000.0 (bytes/sec)\n",
      "ServerApp.rate_limit_window=3.0 (secs)\n",
      "\n"
     ]
    },
    {
     "name": "stdout",
     "output_type": "stream",
     "text": [
      "1087/1087 [==============================] - ETA: 0s - loss: 0.1782 - binary_crossentropy: 0.1867 - binary_focal_crossentropy: 0.1366 - bce_dice_loss: 0.1782 - jacc_coef: 0.1542 - auc_1: 0.9795\n",
      "Epoch 47: val_loss did not improve from 0.42315\n",
      "1087/1087 [==============================] - 258s 237ms/step - loss: 0.1782 - binary_crossentropy: 0.1867 - binary_focal_crossentropy: 0.1366 - bce_dice_loss: 0.1782 - jacc_coef: 0.1542 - auc_1: 0.9795 - val_loss: 1.2068 - val_binary_crossentropy: 1.4674 - val_binary_focal_crossentropy: 1.4008 - val_bce_dice_loss: 1.2068 - val_jacc_coef: 0.5485 - val_auc_1: 0.7305\n",
      "Epoch 48/100\n",
      "1087/1087 [==============================] - ETA: 0s - loss: 0.1791 - binary_crossentropy: 0.1867 - binary_focal_crossentropy: 0.1360 - bce_dice_loss: 0.1791 - jacc_coef: 0.1555 - auc_1: 0.9798\n",
      "Epoch 48: val_loss did not improve from 0.42315\n",
      "1087/1087 [==============================] - 258s 237ms/step - loss: 0.1791 - binary_crossentropy: 0.1867 - binary_focal_crossentropy: 0.1360 - bce_dice_loss: 0.1791 - jacc_coef: 0.1555 - auc_1: 0.9798 - val_loss: 0.9445 - val_binary_crossentropy: 1.0933 - val_binary_focal_crossentropy: 1.0334 - val_bce_dice_loss: 0.9445 - val_jacc_coef: 0.4761 - val_auc_1: 0.7970\n",
      "Epoch 49/100\n",
      "1087/1087 [==============================] - ETA: 0s - loss: 0.1717 - binary_crossentropy: 0.1791 - binary_focal_crossentropy: 0.1303 - bce_dice_loss: 0.1717 - jacc_coef: 0.1496 - auc_1: 0.9814\n",
      "Epoch 49: val_loss did not improve from 0.42315\n",
      "1087/1087 [==============================] - 258s 237ms/step - loss: 0.1717 - binary_crossentropy: 0.1791 - binary_focal_crossentropy: 0.1303 - bce_dice_loss: 0.1717 - jacc_coef: 0.1496 - auc_1: 0.9814 - val_loss: 0.9752 - val_binary_crossentropy: 1.0684 - val_binary_focal_crossentropy: 0.9847 - val_bce_dice_loss: 0.9752 - val_jacc_coef: 0.5209 - val_auc_1: 0.8032\n",
      "Epoch 50/100\n",
      " 422/1087 [==========>...................] - ETA: 2:32 - loss: 0.1791 - binary_crossentropy: 0.1872 - binary_focal_crossentropy: 0.1364 - bce_dice_loss: 0.1791 - jacc_coef: 0.1547 - auc_1: 0.9798"
     ]
    },
    {
     "name": "stderr",
     "output_type": "stream",
     "text": [
      "IOPub data rate exceeded.\n",
      "The Jupyter server will temporarily stop sending output\n",
      "to the client in order to avoid crashing it.\n",
      "To change this limit, set the config variable\n",
      "`--ServerApp.iopub_data_rate_limit`.\n",
      "\n",
      "Current values:\n",
      "ServerApp.iopub_data_rate_limit=1000000.0 (bytes/sec)\n",
      "ServerApp.rate_limit_window=3.0 (secs)\n",
      "\n"
     ]
    },
    {
     "name": "stdout",
     "output_type": "stream",
     "text": [
      "1087/1087 [==============================] - ETA: 0s - loss: 0.1664 - binary_crossentropy: 0.1744 - binary_focal_crossentropy: 0.1282 - bce_dice_loss: 0.1664 - jacc_coef: 0.1445 - auc_1: 0.9821\n",
      "Epoch 57: val_loss did not improve from 0.42315\n",
      "1087/1087 [==============================] - 258s 237ms/step - loss: 0.1664 - binary_crossentropy: 0.1744 - binary_focal_crossentropy: 0.1282 - bce_dice_loss: 0.1664 - jacc_coef: 0.1445 - auc_1: 0.9821 - val_loss: 0.9564 - val_binary_crossentropy: 1.1830 - val_binary_focal_crossentropy: 1.1373 - val_bce_dice_loss: 0.9564 - val_jacc_coef: 0.4344 - val_auc_1: 0.7968\n",
      "Epoch 58/100\n",
      "1087/1087 [==============================] - ETA: 0s - loss: 0.1701 - binary_crossentropy: 0.1775 - binary_focal_crossentropy: 0.1298 - bce_dice_loss: 0.1701 - jacc_coef: 0.1480 - auc_1: 0.9816\n",
      "Epoch 58: val_loss did not improve from 0.42315\n",
      "1087/1087 [==============================] - 258s 237ms/step - loss: 0.1701 - binary_crossentropy: 0.1775 - binary_focal_crossentropy: 0.1298 - bce_dice_loss: 0.1701 - jacc_coef: 0.1480 - auc_1: 0.9816 - val_loss: 1.2708 - val_binary_crossentropy: 1.5334 - val_binary_focal_crossentropy: 1.4536 - val_bce_dice_loss: 1.2708 - val_jacc_coef: 0.5677 - val_auc_1: 0.7384\n",
      "Epoch 59/100\n",
      "1087/1087 [==============================] - ETA: 0s - loss: 0.1598 - binary_crossentropy: 0.1681 - binary_focal_crossentropy: 0.1233 - bce_dice_loss: 0.1598 - jacc_coef: 0.1390 - auc_1: 0.9832\n",
      "Epoch 59: val_loss did not improve from 0.42315\n",
      "1087/1087 [==============================] - 258s 237ms/step - loss: 0.1598 - binary_crossentropy: 0.1681 - binary_focal_crossentropy: 0.1233 - bce_dice_loss: 0.1598 - jacc_coef: 0.1390 - auc_1: 0.9832 - val_loss: 1.1885 - val_binary_crossentropy: 1.4747 - val_binary_focal_crossentropy: 1.4155 - val_bce_dice_loss: 1.1885 - val_jacc_coef: 0.5247 - val_auc_1: 0.7410\n",
      "Epoch 60/100\n",
      " 656/1087 [=================>............] - ETA: 1:38 - loss: 0.1591 - binary_crossentropy: 0.1665 - binary_focal_crossentropy: 0.1216 - bce_dice_loss: 0.1591 - jacc_coef: 0.1390 - auc_1: 0.9836"
     ]
    },
    {
     "name": "stderr",
     "output_type": "stream",
     "text": [
      "IOPub data rate exceeded.\n",
      "The Jupyter server will temporarily stop sending output\n",
      "to the client in order to avoid crashing it.\n",
      "To change this limit, set the config variable\n",
      "`--ServerApp.iopub_data_rate_limit`.\n",
      "\n",
      "Current values:\n",
      "ServerApp.iopub_data_rate_limit=1000000.0 (bytes/sec)\n",
      "ServerApp.rate_limit_window=3.0 (secs)\n",
      "\n"
     ]
    },
    {
     "name": "stdout",
     "output_type": "stream",
     "text": [
      "1087/1087 [==============================] - ETA: 0s - loss: 0.1549 - binary_crossentropy: 0.1633 - binary_focal_crossentropy: 0.1204 - bce_dice_loss: 0.1549 - jacc_coef: 0.1345 - auc_1: 0.9839\n",
      "Epoch 67: val_loss did not improve from 0.42315\n",
      "1087/1087 [==============================] - 258s 237ms/step - loss: 0.1549 - binary_crossentropy: 0.1633 - binary_focal_crossentropy: 0.1204 - bce_dice_loss: 0.1549 - jacc_coef: 0.1345 - auc_1: 0.9839 - val_loss: 1.3059 - val_binary_crossentropy: 1.6730 - val_binary_focal_crossentropy: 1.6233 - val_bce_dice_loss: 1.3059 - val_jacc_coef: 0.5410 - val_auc_1: 0.7078\n",
      "Epoch 68/100\n",
      "1087/1087 [==============================] - ETA: 0s - loss: 0.1518 - binary_crossentropy: 0.1595 - binary_focal_crossentropy: 0.1169 - bce_dice_loss: 0.1518 - jacc_coef: 0.1326 - auc_1: 0.9846\n",
      "Epoch 68: val_loss did not improve from 0.42315\n",
      "1087/1087 [==============================] - 258s 237ms/step - loss: 0.1518 - binary_crossentropy: 0.1595 - binary_focal_crossentropy: 0.1169 - bce_dice_loss: 0.1518 - jacc_coef: 0.1326 - auc_1: 0.9846 - val_loss: 1.2934 - val_binary_crossentropy: 1.6476 - val_binary_focal_crossentropy: 1.5994 - val_bce_dice_loss: 1.2934 - val_jacc_coef: 0.5396 - val_auc_1: 0.7119\n",
      "Epoch 69/100\n",
      "1087/1087 [==============================] - ETA: 0s - loss: 0.1576 - binary_crossentropy: 0.1658 - binary_focal_crossentropy: 0.1223 - bce_dice_loss: 0.1576 - jacc_coef: 0.1370 - auc_1: 0.9835\n",
      "Epoch 69: val_loss did not improve from 0.42315\n",
      "1087/1087 [==============================] - 257s 237ms/step - loss: 0.1576 - binary_crossentropy: 0.1658 - binary_focal_crossentropy: 0.1223 - bce_dice_loss: 0.1576 - jacc_coef: 0.1370 - auc_1: 0.9835 - val_loss: 1.2147 - val_binary_crossentropy: 1.5148 - val_binary_focal_crossentropy: 1.4514 - val_bce_dice_loss: 1.2147 - val_jacc_coef: 0.5358 - val_auc_1: 0.7059\n",
      "Epoch 70/100\n",
      " 699/1087 [==================>...........] - ETA: 1:28 - loss: 0.1599 - binary_crossentropy: 0.1675 - binary_focal_crossentropy: 0.1233 - bce_dice_loss: 0.1599 - jacc_coef: 0.1395 - auc_1: 0.9831"
     ]
    },
    {
     "name": "stderr",
     "output_type": "stream",
     "text": [
      "IOPub data rate exceeded.\n",
      "The Jupyter server will temporarily stop sending output\n",
      "to the client in order to avoid crashing it.\n",
      "To change this limit, set the config variable\n",
      "`--ServerApp.iopub_data_rate_limit`.\n",
      "\n",
      "Current values:\n",
      "ServerApp.iopub_data_rate_limit=1000000.0 (bytes/sec)\n",
      "ServerApp.rate_limit_window=3.0 (secs)\n",
      "\n"
     ]
    },
    {
     "name": "stdout",
     "output_type": "stream",
     "text": [
      "1087/1087 [==============================] - ETA: 0s - loss: 0.1530 - binary_crossentropy: 0.1605 - binary_focal_crossentropy: 0.1178 - bce_dice_loss: 0.1530 - jacc_coef: 0.1335 - auc_1: 0.9845\n",
      "Epoch 78: val_loss did not improve from 0.42315\n",
      "1087/1087 [==============================] - 258s 237ms/step - loss: 0.1530 - binary_crossentropy: 0.1605 - binary_focal_crossentropy: 0.1178 - bce_dice_loss: 0.1530 - jacc_coef: 0.1335 - auc_1: 0.9845 - val_loss: 1.0408 - val_binary_crossentropy: 1.2621 - val_binary_focal_crossentropy: 1.2105 - val_bce_dice_loss: 1.0408 - val_jacc_coef: 0.4860 - val_auc_1: 0.7679\n",
      "Epoch 79/100\n",
      "1087/1087 [==============================] - ETA: 0s - loss: 0.1475 - binary_crossentropy: 0.1547 - binary_focal_crossentropy: 0.1133 - bce_dice_loss: 0.1475 - jacc_coef: 0.1293 - auc_1: 0.9854\n",
      "Epoch 79: val_loss did not improve from 0.42315\n",
      "1087/1087 [==============================] - 258s 237ms/step - loss: 0.1475 - binary_crossentropy: 0.1547 - binary_focal_crossentropy: 0.1133 - bce_dice_loss: 0.1475 - jacc_coef: 0.1293 - auc_1: 0.9854 - val_loss: 1.3083 - val_binary_crossentropy: 1.6838 - val_binary_focal_crossentropy: 1.6318 - val_bce_dice_loss: 1.3083 - val_jacc_coef: 0.5402 - val_auc_1: 0.7083\n",
      "Epoch 80/100\n",
      "1050/1087 [===========================>..] - ETA: 8s - loss: 0.1546 - binary_crossentropy: 0.1636 - binary_focal_crossentropy: 0.1205 - bce_dice_loss: 0.1546 - jacc_coef: 0.1340 - auc_1: 0.9839"
     ]
    },
    {
     "name": "stderr",
     "output_type": "stream",
     "text": [
      "IOPub data rate exceeded.\n",
      "The Jupyter server will temporarily stop sending output\n",
      "to the client in order to avoid crashing it.\n",
      "To change this limit, set the config variable\n",
      "`--ServerApp.iopub_data_rate_limit`.\n",
      "\n",
      "Current values:\n",
      "ServerApp.iopub_data_rate_limit=1000000.0 (bytes/sec)\n",
      "ServerApp.rate_limit_window=3.0 (secs)\n",
      "\n"
     ]
    },
    {
     "name": "stdout",
     "output_type": "stream",
     "text": [
      "1087/1087 [==============================] - ETA: 0s - loss: 0.1512 - binary_crossentropy: 0.1593 - binary_focal_crossentropy: 0.1177 - bce_dice_loss: 0.1512 - jacc_coef: 0.1315 - auc_1: 0.9846\n",
      "Epoch 88: val_loss did not improve from 0.42315\n",
      "1087/1087 [==============================] - 258s 237ms/step - loss: 0.1512 - binary_crossentropy: 0.1593 - binary_focal_crossentropy: 0.1177 - bce_dice_loss: 0.1512 - jacc_coef: 0.1315 - auc_1: 0.9846 - val_loss: 1.1371 - val_binary_crossentropy: 1.4185 - val_binary_focal_crossentropy: 1.3663 - val_bce_dice_loss: 1.1371 - val_jacc_coef: 0.5024 - val_auc_1: 0.7605\n",
      "Epoch 89/100\n",
      "1087/1087 [==============================] - ETA: 0s - loss: 0.1411 - binary_crossentropy: 0.1480 - binary_focal_crossentropy: 0.1091 - bce_dice_loss: 0.1411 - jacc_coef: 0.1241 - auc_1: 0.9866\n",
      "Epoch 89: val_loss did not improve from 0.42315\n",
      "1087/1087 [==============================] - 258s 237ms/step - loss: 0.1411 - binary_crossentropy: 0.1480 - binary_focal_crossentropy: 0.1091 - bce_dice_loss: 0.1411 - jacc_coef: 0.1241 - auc_1: 0.9866 - val_loss: 1.1906 - val_binary_crossentropy: 1.4289 - val_binary_focal_crossentropy: 1.3539 - val_bce_dice_loss: 1.1906 - val_jacc_coef: 0.5546 - val_auc_1: 0.7196\n",
      "Epoch 90/100\n",
      "1087/1087 [==============================] - ETA: 0s - loss: 0.1385 - binary_crossentropy: 0.1458 - binary_focal_crossentropy: 0.1076 - bce_dice_loss: 0.1385 - jacc_coef: 0.1217 - auc_1: 0.9868\n",
      "Epoch 90: val_loss did not improve from 0.42315\n",
      "1087/1087 [==============================] - 258s 237ms/step - loss: 0.1385 - binary_crossentropy: 0.1458 - binary_focal_crossentropy: 0.1076 - bce_dice_loss: 0.1385 - jacc_coef: 0.1217 - auc_1: 0.9868 - val_loss: 1.2781 - val_binary_crossentropy: 1.6287 - val_binary_focal_crossentropy: 1.5713 - val_bce_dice_loss: 1.2781 - val_jacc_coef: 0.5417 - val_auc_1: 0.7286\n",
      "Epoch 91/100\n",
      " 176/1087 [===>..........................] - ETA: 3:28 - loss: 0.1297 - binary_crossentropy: 0.1349 - binary_focal_crossentropy: 0.0991 - bce_dice_loss: 0.1297 - jacc_coef: 0.1157 - auc_1: 0.9885"
     ]
    },
    {
     "name": "stderr",
     "output_type": "stream",
     "text": [
      "IOPub data rate exceeded.\n",
      "The Jupyter server will temporarily stop sending output\n",
      "to the client in order to avoid crashing it.\n",
      "To change this limit, set the config variable\n",
      "`--ServerApp.iopub_data_rate_limit`.\n",
      "\n",
      "Current values:\n",
      "ServerApp.iopub_data_rate_limit=1000000.0 (bytes/sec)\n",
      "ServerApp.rate_limit_window=3.0 (secs)\n",
      "\n"
     ]
    },
    {
     "name": "stdout",
     "output_type": "stream",
     "text": [
      "1087/1087 [==============================] - ETA: 0s - loss: 0.1536 - binary_crossentropy: 0.1628 - binary_focal_crossentropy: 0.1207 - bce_dice_loss: 0.1536 - jacc_coef: 0.1320 - auc_1: 0.9840\n",
      "Epoch 98: val_loss did not improve from 0.42315\n",
      "1087/1087 [==============================] - 258s 237ms/step - loss: 0.1536 - binary_crossentropy: 0.1628 - binary_focal_crossentropy: 0.1207 - bce_dice_loss: 0.1536 - jacc_coef: 0.1320 - auc_1: 0.9840 - val_loss: 1.0568 - val_binary_crossentropy: 1.2000 - val_binary_focal_crossentropy: 1.1148 - val_bce_dice_loss: 1.0568 - val_jacc_coef: 0.5345 - val_auc_1: 0.8132\n",
      "Epoch 99/100\n",
      "1087/1087 [==============================] - ETA: 0s - loss: 0.1354 - binary_crossentropy: 0.1426 - binary_focal_crossentropy: 0.1049 - bce_dice_loss: 0.1354 - jacc_coef: 0.1189 - auc_1: 0.9873\n",
      "Epoch 99: val_loss did not improve from 0.42315\n",
      "1087/1087 [==============================] - 258s 237ms/step - loss: 0.1354 - binary_crossentropy: 0.1426 - binary_focal_crossentropy: 0.1049 - bce_dice_loss: 0.1354 - jacc_coef: 0.1189 - auc_1: 0.9873 - val_loss: 0.7139 - val_binary_crossentropy: 0.7425 - val_binary_focal_crossentropy: 0.6888 - val_bce_dice_loss: 0.7139 - val_jacc_coef: 0.4150 - val_auc_1: 0.8924\n",
      "Epoch 100/100\n",
      "1087/1087 [==============================] - ETA: 0s - loss: 0.1394 - binary_crossentropy: 0.1461 - binary_focal_crossentropy: 0.1077 - bce_dice_loss: 0.1394 - jacc_coef: 0.1225 - auc_1: 0.9868\n",
      "Epoch 100: val_loss did not improve from 0.42315\n",
      "1087/1087 [==============================] - 258s 237ms/step - loss: 0.1394 - binary_crossentropy: 0.1461 - binary_focal_crossentropy: 0.1077 - bce_dice_loss: 0.1394 - jacc_coef: 0.1225 - auc_1: 0.9868 - val_loss: 1.0869 - val_binary_crossentropy: 1.3147 - val_binary_focal_crossentropy: 1.2622 - val_bce_dice_loss: 1.0869 - val_jacc_coef: 0.5090 - val_auc_1: 0.7619\n"
     ]
    }
   ],
   "source": [
    "# # Train the model and save the history\n",
    "# history = model.fit(train,\n",
    "#                     epochs=5,\n",
    "#                     validation_data=valid,\n",
    "#                     callbacks=[cp_callback, time_callback],\n",
    "#                     verbose=1)\n",
    "\n",
    "# Train the model and save the history. Generator version\n",
    "history = model.fit(train,\n",
    "                    validation_data=valid,\n",
    "                    steps_per_epoch=steps_per_epoch,\n",
    "                    validation_steps=validation_steps,\n",
    "                    callbacks=callbacks_list,\n",
    "                    epochs=NUM_EPOCHS, \n",
    "                    verbose=1,)"
   ]
  },
  {
   "cell_type": "code",
   "execution_count": 35,
   "metadata": {
    "tags": []
   },
   "outputs": [
    {
     "data": {
      "image/png": "[encoded data removed]",
      "text/plain": [
       "<Figure size 640x480 with 1 Axes>"
      ]
     },
     "metadata": {},
     "output_type": "display_data"
    },
    {
     "data": {
      "image/png": "[encoded data removed]",
      "text/plain": [
       "<Figure size 640x480 with 1 Axes>"
      ]
     },
     "metadata": {},
     "output_type": "display_data"
    },
    {
     "ename": "KeyError",
     "evalue": "'auc'",
     "output_type": "error",
     "traceback": [
      "\u001b[0;31m---------------------------------------------------------------------------\u001b[0m",
      "\u001b[0;31mKeyError\u001b[0m                                  Traceback (most recent call last)",
      "Cell \u001b[0;32mIn[35], line 28\u001b[0m\n\u001b[1;32m     24\u001b[0m plt\u001b[38;5;241m.\u001b[39msavefig(os\u001b[38;5;241m.\u001b[39mpath\u001b[38;5;241m.\u001b[39mjoin(log_dir, \u001b[38;5;124m'\u001b[39m\u001b[38;5;124mloss.png\u001b[39m\u001b[38;5;124m'\u001b[39m))\n\u001b[1;32m     26\u001b[0m plt\u001b[38;5;241m.\u001b[39mshow()\n\u001b[0;32m---> 28\u001b[0m acc \u001b[38;5;241m=\u001b[39m \u001b[43mhistory\u001b[49m\u001b[38;5;241;43m.\u001b[39;49m\u001b[43mhistory\u001b[49m\u001b[43m[\u001b[49m\u001b[38;5;124;43m'\u001b[39;49m\u001b[38;5;124;43mauc\u001b[39;49m\u001b[38;5;124;43m'\u001b[39;49m\u001b[43m]\u001b[49m\n\u001b[1;32m     29\u001b[0m val_acc \u001b[38;5;241m=\u001b[39m history\u001b[38;5;241m.\u001b[39mhistory[\u001b[38;5;124m'\u001b[39m\u001b[38;5;124mval_auc\u001b[39m\u001b[38;5;124m'\u001b[39m]\n\u001b[1;32m     30\u001b[0m plt\u001b[38;5;241m.\u001b[39mplot(epochs, acc, \u001b[38;5;124m'\u001b[39m\u001b[38;5;124my\u001b[39m\u001b[38;5;124m'\u001b[39m, label\u001b[38;5;241m=\u001b[39m\u001b[38;5;124m'\u001b[39m\u001b[38;5;124mTraining auc\u001b[39m\u001b[38;5;124m'\u001b[39m)\n",
      "\u001b[0;31mKeyError\u001b[0m: 'auc'"
     ]
    }
   ],
   "source": [
    "plt.plot(time_callback.times, label=f'Total training time: {sum(time_callback.times):.2f} secs')\n",
    "plt.ylabel('Time (seconds)')\n",
    "plt.xlabel('Epoch')\n",
    "plt.title(f'Training time for each epoch for {model_name}')\n",
    "plt.legend()  # This displays the legend\n",
    "\n",
    "# Save the figure\n",
    "plt.savefig(os.path.join(log_dir, 'training_time.png'))\n",
    "\n",
    "plt.show()\n",
    "\n",
    "#plot the training and validation metric and loss at each epoch\n",
    "loss = history.history['loss']\n",
    "val_loss = history.history['val_loss']\n",
    "epochs = range(1, len(loss) + 1)\n",
    "plt.plot(epochs, loss, 'y', label='Training loss')\n",
    "plt.plot(epochs, val_loss, 'r', label='Validation loss')\n",
    "plt.title(f'Training and validation loss')\n",
    "plt.xlabel('Epochs')\n",
    "plt.ylabel('Loss')\n",
    "plt.legend()\n",
    "\n",
    "# Save the figure\n",
    "plt.savefig(os.path.join(log_dir, 'loss.png'))\n",
    "\n",
    "plt.show()\n",
    "\n",
    "acc = history.history['auc']\n",
    "val_acc = history.history['val_auc']\n",
    "plt.plot(epochs, acc, 'y', label='Training auc')\n",
    "plt.plot(epochs, val_acc, 'r', label='Validation auc')\n",
    "plt.title('Training and validation AUC')\n",
    "plt.xlabel('Epochs')\n",
    "plt.ylabel('AUC score')\n",
    "plt.legend()\n",
    "\n",
    "# Save the figure\n",
    "plt.savefig(os.path.join(log_dir, 'auc.png'))\n",
    "\n",
    "plt.show()"
   ]
  },
  {
   "cell_type": "markdown",
   "metadata": {
    "tags": []
   },
   "source": [
    "## Save"
   ]
  },
  {
   "cell_type": "code",
   "execution_count": 36,
   "metadata": {
    "tags": []
   },
   "outputs": [],
   "source": [
    "# Convert float32 values to float\n",
    "def convert_float32_to_float(obj):\n",
    "    if isinstance(obj, np.float32):\n",
    "        return float(obj)\n",
    "    return obj"
   ]
  },
  {
   "cell_type": "code",
   "execution_count": 37,
   "metadata": {
    "tags": []
   },
   "outputs": [],
   "source": [
    "# model.save(Path(saved_models_path, model_name))\n",
    "model.save(Path(saved_models_path, f\"{model_name}.h5\"))\n",
    "\n",
    "# Save training history\n",
    "with open(Path(train_history_path, f'{model_name}.json'), 'w') as f:\n",
    "    json.dump(history.history, f, default=convert_float32_to_float)"
   ]
  },
  {
   "cell_type": "markdown",
   "metadata": {},
   "source": [
    "---\n",
    "\n",
    "## Evaluation and Visualization of Model Performance\n",
    "\n",
    "In the following code segment, we delve into the evaluation and visualization of a deep learning model's performance, particularly in the context of binary image segmentation tasks. The code includes the calculation of metrics such as the Jaccard Score (Intersection over Union or IoU) and the Receiver Operating Characteristic (ROC) curve. Additionally, it explores the impact of different threshold values on segmentation performance.\n",
    "\n",
    "### Model Predictions and Thresholding\n",
    "\n",
    "The code begins by making predictions using the trained model on a test dataset (`X_test`) and then applies a threshold of 0.5 to these predictions, converting them into binary masks (`y_pred_thresholded`). This thresholding step is a common practice in binary image segmentation tasks.\n",
    "\n",
    "### Jaccard Score (IoU)\n",
    "\n",
    "The Jaccard Score, also known as the IoU, is a crucial metric for evaluating segmentation accuracy. The code computes this score by comparing the flattened ground truth (`y_true`) and thresholded predicted masks (`thresholded_predictions`). The result is a measure of the spatial overlap between the predicted and actual binary masks.\n",
    "\n",
    "### Receiver Operating Characteristic (ROC) Curve\n",
    "\n",
    "The ROC curve and its associated Area Under the Curve (AUC) are employed to assess the model's ability to discriminate between positive and negative instances. The code calculates the ROC curve and AUC based on the true labels (`y_true`) and model scores (`y_score`). It then visualizes the ROC curve and highlights the AUC.\n",
    "\n",
    "### Threshold Analysis\n",
    "\n",
    "To understand how different threshold values affect segmentation performance, the code defines a range of threshold values (`thresholds`) to evaluate. It iterates through these thresholds, applies each threshold to the model's predictions, and calculates the Jaccard Score for each thresholded prediction. The results are plotted as a curve, illustrating how the Jaccard Score varies with different thresholds.\n",
    "\n",
    "Overall, this code provides a comprehensive analysis of a model's segmentation performance, from evaluating spatial overlap using the Jaccard Score to assessing the model's ability to distinguish between classes via the ROC curve. The threshold analysis sheds light on the impact of different decision thresholds on the segmentation results.\n",
    "\n",
    "--- \n"
   ]
  },
  {
   "cell_type": "code",
   "execution_count": 38,
   "metadata": {
    "tags": []
   },
   "outputs": [
    {
     "name": "stdout",
     "output_type": "stream",
     "text": [
      "117/117 [==============================] - 16s 121ms/step\n"
     ]
    }
   ],
   "source": [
    "y_pred = model.predict(X_test)\n",
    "y_pred_thresholded = y_pred > 0.5"
   ]
  },
  {
   "cell_type": "code",
   "execution_count": 39,
   "metadata": {
    "tags": []
   },
   "outputs": [
    {
     "name": "stdout",
     "output_type": "stream",
     "text": [
      "Jaccard Score (IoU):  0.7039839694411079\n"
     ]
    }
   ],
   "source": [
    "# Cast to float types\n",
    "y_true_f = y_test.astype('float32')\n",
    "y_pred_f = y_pred_thresholded.astype('float32')\n",
    "\n",
    "y_true_flatten = y_true_f.reshape(-1)\n",
    "y_pred_flatten = y_pred_f.reshape(-1)\n",
    "\n",
    "# Jaccard Score\n",
    "jaccard = jaccard_score(y_true_flatten, y_pred_flatten)\n",
    "print(\"Jaccard Score (IoU): \", jaccard)"
   ]
  },
  {
   "cell_type": "code",
   "execution_count": 23,
   "metadata": {
    "tags": []
   },
   "outputs": [
    {
     "data": {
      "image/png": "[encoded data removed]",
      "text/plain": [
       "<Figure size 640x480 with 1 Axes>"
      ]
     },
     "metadata": {},
     "output_type": "display_data"
    }
   ],
   "source": [
    "y_true = y_test.flatten()\n",
    "y_score = y_pred.flatten()\n",
    "\n",
    "fpr, tpr, _ = roc_curve(y_true, y_score)\n",
    "\n",
    "roc_auc = auc(fpr, tpr)\n",
    "\n",
    "plt.figure()\n",
    "plt.plot(fpr, tpr, color='darkorange', lw=2, label='ROC curve (area = %0.2f)' % roc_auc)\n",
    "plt.plot([0, 1], [0, 1], color='navy', lw=2, linestyle='--')\n",
    "plt.xlim([0.0, 1.0])\n",
    "plt.ylim([0.0, 1.05])\n",
    "plt.xlabel('False Positive Rate')\n",
    "plt.ylabel('True Positive Rate')\n",
    "plt.title('Receiver Operating Characteristic (ROC)')\n",
    "plt.legend(loc=\"lower right\")\n",
    "\n",
    "# Save the figure\n",
    "plt.savefig(os.path.join(log_dir, 'roc.png'))\n",
    "\n",
    "plt.show()\n"
   ]
  },
  {
   "cell_type": "code",
   "execution_count": 24,
   "metadata": {
    "tags": []
   },
   "outputs": [
    {
     "name": "stderr",
     "output_type": "stream",
     "text": [
      "Exception ignored in: <function WeakKeyDictionary.__init__.<locals>.remove at 0x7f2b25676820>\n",
      "Traceback (most recent call last):\n",
      "  File \"/usr/lib/python3.8/weakref.py\", line 345, in remove\n",
      "    def remove(k, selfref=ref(self)):\n",
      "KeyboardInterrupt: \n",
      "\n",
      "KeyboardInterrupt\n",
      "\n"
     ]
    }
   ],
   "source": [
    "# Define your threshold values to evaluate\n",
    "thresholds = np.linspace(0.1, 0.9, num=9)  # Adjust the range and step size as needed\n",
    "\n",
    "# Initialize an empty list to store Jaccard scores\n",
    "jaccard_scores = []\n",
    "\n",
    "for threshold in thresholds:\n",
    "    # Apply the threshold to the model's predictions\n",
    "    thresholded_predictions = (y_score > threshold).astype(int)\n",
    "    \n",
    "    # Calculate the Jaccard score (IoU) for the thresholded predictions\n",
    "    score = jaccard_score(y_true, thresholded_predictions)  # Adjust 'average' as needed\n",
    "    \n",
    "    jaccard_scores.append(score)\n",
    "\n",
    "# Create a plot\n",
    "plt.figure(figsize=(10, 6))\n",
    "plt.plot(thresholds, jaccard_scores, marker='o', linestyle='-')\n",
    "plt.title('Jaccard Score vs. Threshold')\n",
    "plt.xlabel('Threshold')\n",
    "plt.ylabel('Jaccard Score')\n",
    "plt.grid(True)\n",
    "\n",
    "# Save the figure\n",
    "plt.savefig(os.path.join(log_dir, 'threshold.png'))\n",
    "\n",
    "plt.show()"
   ]
  },
  {
   "cell_type": "code",
   "execution_count": null,
   "metadata": {},
   "outputs": [],
   "source": []
  }
 ],
 "metadata": {
  "kernelspec": {
   "display_name": "Python 3 (ipykernel)",
   "language": "python",
   "name": "python3"
  },
  "language_info": {
   "codemirror_mode": {
    "name": "ipython",
    "version": 3
   },
   "file_extension": ".py",
   "mimetype": "text/x-python",
   "name": "python",
   "nbconvert_exporter": "python",
   "pygments_lexer": "ipython3",
   "version": "3.8.10"
  }
 },
 "nbformat": 4,
 "nbformat_minor": 4
}
